{
 "cells": [
  {
   "cell_type": "code",
   "execution_count": 159,
   "metadata": {
    "collapsed": true
   },
   "outputs": [],
   "source": [
    "import os\n",
    "import numpy as np\n",
    "import cv2\n",
    "folderpath = 'Exper_XiaoCube_merge/'\n",
    "gt_path = folderpath +'gt/'\n",
    "mask_path = folderpath +'XiaoCube_Model/'\n",
    "gt = os.listdir(gt_path)\n",
    "mask = os.listdir(mask_path)\n",
    "\n",
    "#####no instance"
   ]
  },
  {
   "cell_type": "code",
   "execution_count": null,
   "metadata": {
    "collapsed": true
   },
   "outputs": [],
   "source": []
  },
  {
   "cell_type": "code",
   "execution_count": 160,
   "metadata": {
    "collapsed": true
   },
   "outputs": [],
   "source": [
    "def bbox_overlap(mask11, mask22):\n",
    "###############################################\n",
    "###############################################\n",
    "    \"\"\"\n",
    "    This function calculate region IOU when masks are\n",
    "    inside different boxes\n",
    "    Returns:\n",
    "        intersection over unions of this two masks\n",
    "    \"\"\"\n",
    "    mask1 = mask11.copy()\n",
    "    mask2 = mask22.copy()\n",
    "    \n",
    "\n",
    "    #box1 / box2 are the bounding box of mask1 / mask2 \n",
    "    blob1 = np.where(mask1>=1)\n",
    "    box1x1 = min(blob1[1])\n",
    "    box1x2 = max(blob1[1])\n",
    "    box1y1 = min(blob1[0])\n",
    "    box1y2 = max(blob1[0])\n",
    "    \n",
    "    cv2.rectangle(mask1,(box1x1,box1y1),(box1x2,box1y2),1,1)\n",
    "    \n",
    "    blob2 = np.where(mask2>=1)\n",
    "    box2x1 = min(blob2[1])\n",
    "    box2x2 = max(blob2[1])\n",
    "    box2y1 = min(blob2[0])\n",
    "    box2y2 = max(blob2[0])\n",
    "    \n",
    "    cv2.rectangle(mask2,(box2x1,box2y1),(box2x2,box2y2),1,1)\n",
    "    \n",
    "    x1 = max(box1x1 , box2x1)\n",
    "    y1 = max(box1y1 , box2y1)\n",
    "    x2 = min(box1x2 , box2x2)\n",
    "    y2 = min(box1y2 , box2y2)\n",
    "    \n",
    "    if x1 > x2 or y1 > y2:\n",
    "        return 0\n",
    "    w = x2 - x1 + 1\n",
    "    h = y2 - y1 + 1\n",
    "\n",
    "    inter = w*h\n",
    "    union = (box1x2-box1x1 + 1)*(box1y2-box1y1+1) + (box2x2-box2x1+1)*(box2y2-box2y1+1) - inter\n",
    "    \n",
    "    #print inter\n",
    "    #print union\n",
    "    \n",
    "    if union < 1.0:\n",
    "        return 0\n",
    "    return float(inter) / float(union)\n"
   ]
  },
  {
   "cell_type": "code",
   "execution_count": 161,
   "metadata": {
    "collapsed": true
   },
   "outputs": [],
   "source": [
    "import time\n",
    "def ParseMask(img):\n",
    "    t0 = time.time()\n",
    "    part = []\n",
    "    partlabel = []\n",
    "    visited_color = []\n",
    "    \n",
    "    blue_channel = img[:,:,0]\n",
    "    pixel = blue_channel.nonzero()\n",
    "    for i in range(0,len(pixel[0])):\n",
    "        color = img[pixel[0][i],pixel[1][i]]\n",
    "        color_string =  str(\"%03d\" % color[0]) + str(\"%03d\" % color[1]) +str(\"%03d\" % color[2])\n",
    "        if color_string not in visited_color: \n",
    "            visited_color.append(color_string)\n",
    "            lower = np.array(color, dtype = \"uint8\")#颜色下限  \n",
    "            upper = np.array(color, dtype = \"uint8\")#颜色上限  \n",
    "\n",
    "            #plt.imshow(fcis_img)\n",
    "            mask = cv2.inRange(img, lower, upper) \n",
    "            output = cv2.bitwise_and(img,img,mask=mask)\n",
    "            output = cv2.cvtColor(output, cv2.COLOR_BGR2GRAY)\n",
    "            output[output>=1] = 1\n",
    "\n",
    "            part.append(output)\n",
    "    \n",
    "    t1 = time.time()\n",
    "    #print (t1-t0)\n",
    "    return part"
   ]
  },
  {
   "cell_type": "code",
   "execution_count": 179,
   "metadata": {
    "collapsed": true
   },
   "outputs": [],
   "source": [
    "def voc_ap(rec, prec, use_07_metric=False):\n",
    "    \"\"\"\n",
    "    average precision calculations\n",
    "    [precision integrated to recall]\n",
    "    :param rec: recall\n",
    "    :param prec: precision\n",
    "    :param use_07_metric: 2007 metric is 11-recall-point based AP\n",
    "    :return: average precision\n",
    "    \"\"\"\n",
    "    if use_07_metric:\n",
    "        ap = 0.\n",
    "        for t in np.arange(0., 1.1, 0.1):\n",
    "            if np.sum(rec >= t) == 0:\n",
    "                p = 0\n",
    "            else:\n",
    "                p = np.max(prec[rec >= t])\n",
    "            ap += p / 11.\n",
    "    else:\n",
    "        print(len(rec))\n",
    "        print(len(prec))       \n",
    "        \n",
    "        # append sentinel values at both ends\n",
    "        mrec = np.concatenate(([0.], rec, [1.]))    #前面补一个0，后面补一个1\n",
    "        mpre = np.concatenate(([0.], prec, [0.])) #前后各补一个0\n",
    "        \n",
    "        print(len(mrec))\n",
    "        print(len(mpre))\n",
    "        \n",
    "        # compute precision integration ladder\n",
    "        for i in range(mpre.size - 1, 0, -1):\n",
    "            mpre[i - 1] = np.maximum(mpre[i - 1], mpre[i])\n",
    "\n",
    "        # look for recall value changes\n",
    "        i = np.where(mrec[1:] != mrec[:-1])[0]\n",
    "\n",
    "        # sum (\\delta recall) * prec\n",
    "        ap = np.sum((mrec[i + 1] - mrec[i]) * mpre[i + 1])\n",
    "    return ap"
   ]
  },
  {
   "cell_type": "code",
   "execution_count": 180,
   "metadata": {},
   "outputs": [
    {
     "name": "stdout",
     "output_type": "stream",
     "text": [
      "192\n",
      "192\n",
      "194\n",
      "194\n"
     ]
    },
    {
     "data": {
      "text/plain": [
       "0.76795580110497241"
      ]
     },
     "execution_count": 180,
     "metadata": {},
     "output_type": "execute_result"
    }
   ],
   "source": [
    "voc_ap(rec,prec,False)"
   ]
  },
  {
   "cell_type": "code",
   "execution_count": 163,
   "metadata": {},
   "outputs": [
    {
     "name": "stdout",
     "output_type": "stream",
     "text": [
      "cube_02978.png\n",
      "cube_02579.png\n"
     ]
    }
   ],
   "source": [
    "fps = []\n",
    "tps =[]\n",
    "overlap_areas = []\n",
    "gt_ins_num = 0\n",
    "mask_ins_num = 0\n",
    "i = -1\n",
    "for name in gt:\n",
    "    i=i+1\n",
    "    #print(i)    \n",
    "    gt_name = name\n",
    "    gtimg = cv2.imread(gt_path+gt_name, 1)   \n",
    "    gt_part = ParseMask(gtimg)\n",
    "    gt_ins_num = gt_ins_num + len(gt_part)\n",
    "    \n",
    "    mask_name = name[:name.index('.')] + '_mask.png'\n",
    "    #print(mask_name)\n",
    "    if not os.path.exists(mask_path+mask_name):\n",
    "        print(gt_name)\n",
    "        continue\n",
    "\n",
    "    maskimg = cv2.imread(mask_path+mask_name, 1)\n",
    "    mask_part = ParseMask(maskimg)\n",
    "\n",
    "    #for xxx in range(0,len(mask_part)):\n",
    "    #    temp = mask_part[xxx].copy()    \n",
    "    #    temp[temp>=1] = 255\n",
    "     #   filename = folderpath+'mask_split/'+mask_name[:mask_name.index('.')]+'_'+str(xxx)+'.png'\n",
    "     #   cv2.imwrite(filename,temp)\n",
    "    \n",
    "    #for xxx in range(0,len(gt_part)):\n",
    "     #   temp = gt_part[xxx].copy()\n",
    "      #  temp[temp>=1] = 255\n",
    "       # cv2.imwrite(folderpath+'gt_n_split/'+gt_name[:gt_name.index('.')]+'_'+str(xxx)+'.png',temp)\n",
    "\n",
    "    gt_detect_list = np.zeros((len(gt_part), 1))\n",
    "    idx = 0\n",
    "    tp = np.zeros(len(mask_part))\n",
    "    fp = np.zeros(len(mask_part))\n",
    "    \n",
    "    mask_ins_num = mask_ins_num+len(mask_part)\n",
    "    \n",
    "\n",
    "    # print len(mask_part)\n",
    "    for ii in mask_part:\n",
    "        cur_overlap = -1000\n",
    "        cur_overlap_ind = -1\n",
    "        for j in range(0,len(gt_part)):\n",
    "            ov = bbox_overlap(gt_part[j], ii)\n",
    "            if ov > cur_overlap:\n",
    "                cur_overlap = ov\n",
    "                cur_overlap_ind = j\n",
    "                \n",
    "        overlap_areas.append(cur_overlap)\n",
    "        if cur_overlap >= 0.5:\n",
    "            if gt_detect_list[cur_overlap_ind]:\n",
    "                fp[idx] = 1\n",
    "            else:\n",
    "                tp[idx] = 1\n",
    "                gt_detect_list[cur_overlap_ind] = 1\n",
    "        else:\n",
    "            fp[idx] = 1            \n",
    "\n",
    "        idx = idx+1\n",
    "\n",
    "    tps.extend(tp)\n",
    "    fps.extend(fp)\n",
    "    #print(len(tps))\n",
    "    #print(mask_ins_num)"
   ]
  },
  {
   "cell_type": "code",
   "execution_count": 164,
   "metadata": {},
   "outputs": [
    {
     "name": "stdout",
     "output_type": "stream",
     "text": [
      "181\n",
      "192\n",
      "192\n",
      "192\n"
     ]
    }
   ],
   "source": [
    "print(gt_ins_num)\n",
    "print(mask_ins_num)\n",
    "print(len(tps))\n",
    "print(len(fps))"
   ]
  },
  {
   "cell_type": "code",
   "execution_count": 165,
   "metadata": {
    "collapsed": true
   },
   "outputs": [],
   "source": [
    "orderidx = np.argsort(overlap_areas) # 按照overlap重新对tp 和 fp 排序，模拟score\n",
    "orderidx = orderidx[::-1]\n",
    "\n",
    "tps_backup = tps[:]\n",
    "fpt_backup = fps[:]\n",
    "\n",
    "or_tps = []\n",
    "or_fps = []\n",
    "for x in orderidx:\n",
    "    or_tps.append(tps[x])\n",
    "    or_fps.append(fps[x])\n",
    "\n",
    "tps = or_tps[:]\n",
    "fps = or_fps[:]"
   ]
  },
  {
   "cell_type": "code",
   "execution_count": 166,
   "metadata": {},
   "outputs": [
    {
     "name": "stdout",
     "output_type": "stream",
     "text": [
      "181\n",
      "192\n",
      "192\n",
      "192\n"
     ]
    }
   ],
   "source": [
    "print(gt_ins_num)\n",
    "print(mask_ins_num)\n",
    "print(len(tps))\n",
    "print(len(fps))"
   ]
  },
  {
   "cell_type": "code",
   "execution_count": 167,
   "metadata": {
    "scrolled": true
   },
   "outputs": [
    {
     "name": "stdout",
     "output_type": "stream",
     "text": [
      "[1.0, 1.0, 1.0, 1.0, 1.0, 1.0, 1.0, 1.0, 1.0, 1.0, 1.0, 1.0, 1.0, 1.0, 1.0, 1.0, 1.0, 1.0, 1.0, 1.0, 1.0, 1.0, 1.0, 1.0, 1.0, 1.0, 1.0, 1.0, 1.0, 1.0, 1.0, 1.0, 1.0, 1.0, 1.0, 1.0, 1.0, 1.0, 1.0, 1.0, 1.0, 1.0, 1.0, 1.0, 1.0, 1.0, 1.0, 1.0, 1.0, 1.0, 1.0, 1.0, 1.0, 1.0, 1.0, 1.0, 1.0, 1.0, 1.0, 1.0, 1.0, 1.0, 1.0, 1.0, 1.0, 1.0, 1.0, 1.0, 1.0, 1.0, 1.0, 1.0, 1.0, 1.0, 1.0, 1.0, 1.0, 1.0, 1.0, 1.0, 1.0, 1.0, 1.0, 1.0, 1.0, 1.0, 1.0, 1.0, 1.0, 1.0, 1.0, 1.0, 1.0, 1.0, 1.0, 1.0, 1.0, 1.0, 1.0, 1.0, 1.0, 1.0, 1.0, 1.0, 1.0, 1.0, 1.0, 1.0, 1.0, 1.0, 1.0, 1.0, 1.0, 1.0, 1.0, 1.0, 1.0, 1.0, 1.0, 1.0, 1.0, 1.0, 1.0, 1.0, 1.0, 1.0, 1.0, 1.0, 1.0, 1.0, 1.0, 1.0, 1.0, 1.0, 1.0, 1.0, 1.0, 1.0, 1.0, 0.0, 0.0, 0.0, 0.0, 0.0, 0.0, 0.0, 0.0, 0.0, 0.0, 0.0, 0.0, 0.0, 0.0, 0.0, 0.0, 0.0, 0.0, 0.0, 0.0, 0.0, 0.0, 0.0, 0.0, 0.0, 0.0, 0.0, 0.0, 0.0, 0.0, 0.0, 0.0, 0.0, 0.0, 0.0, 0.0, 0.0, 0.0, 0.0, 0.0, 0.0, 0.0, 0.0, 0.0, 0.0, 0.0, 0.0, 0.0, 0.0, 0.0, 0.0, 0.0, 0.0]\n",
      "[0.0, 0.0, 0.0, 0.0, 0.0, 0.0, 0.0, 0.0, 0.0, 0.0, 0.0, 0.0, 0.0, 0.0, 0.0, 0.0, 0.0, 0.0, 0.0, 0.0, 0.0, 0.0, 0.0, 0.0, 0.0, 0.0, 0.0, 0.0, 0.0, 0.0, 0.0, 0.0, 0.0, 0.0, 0.0, 0.0, 0.0, 0.0, 0.0, 0.0, 0.0, 0.0, 0.0, 0.0, 0.0, 0.0, 0.0, 0.0, 0.0, 0.0, 0.0, 0.0, 0.0, 0.0, 0.0, 0.0, 0.0, 0.0, 0.0, 0.0, 0.0, 0.0, 0.0, 0.0, 0.0, 0.0, 0.0, 0.0, 0.0, 0.0, 0.0, 0.0, 0.0, 0.0, 0.0, 0.0, 0.0, 0.0, 0.0, 0.0, 0.0, 0.0, 0.0, 0.0, 0.0, 0.0, 0.0, 0.0, 0.0, 0.0, 0.0, 0.0, 0.0, 0.0, 0.0, 0.0, 0.0, 0.0, 0.0, 0.0, 0.0, 0.0, 0.0, 0.0, 0.0, 0.0, 0.0, 0.0, 0.0, 0.0, 0.0, 0.0, 0.0, 0.0, 0.0, 0.0, 0.0, 0.0, 0.0, 0.0, 0.0, 0.0, 0.0, 0.0, 0.0, 0.0, 0.0, 0.0, 0.0, 0.0, 0.0, 0.0, 0.0, 0.0, 0.0, 0.0, 0.0, 0.0, 0.0, 1.0, 1.0, 1.0, 1.0, 1.0, 1.0, 1.0, 1.0, 1.0, 1.0, 1.0, 1.0, 1.0, 1.0, 1.0, 1.0, 1.0, 1.0, 1.0, 1.0, 1.0, 1.0, 1.0, 1.0, 1.0, 1.0, 1.0, 1.0, 1.0, 1.0, 1.0, 1.0, 1.0, 1.0, 1.0, 1.0, 1.0, 1.0, 1.0, 1.0, 1.0, 1.0, 1.0, 1.0, 1.0, 1.0, 1.0, 1.0, 1.0, 1.0, 1.0, 1.0, 1.0]\n"
     ]
    }
   ],
   "source": [
    "print(tps)\n",
    "print(fps)"
   ]
  },
  {
   "cell_type": "code",
   "execution_count": 168,
   "metadata": {},
   "outputs": [
    {
     "name": "stdout",
     "output_type": "stream",
     "text": [
      "0.767955801105\n"
     ]
    }
   ],
   "source": [
    "num_pos = gt_ins_num\n",
    "fpss = np.cumsum(fps)\n",
    "tpss = np.cumsum(tps)\n",
    "rec = tpss / float(num_pos)\n",
    "# avoid divide by zero in case the first matches a difficult gt\n",
    "prec = tpss / np.maximum(fpss+tpss, np.finfo(np.float64).eps)\n",
    "ap = voc_ap(rec, prec, False)\n",
    "print(ap)"
   ]
  },
  {
   "cell_type": "code",
   "execution_count": 169,
   "metadata": {},
   "outputs": [
    {
     "name": "stdout",
     "output_type": "stream",
     "text": [
      "192\n",
      "192\n"
     ]
    }
   ],
   "source": [
    "print(len(tpss))\n",
    "print(len(fpss))"
   ]
  },
  {
   "cell_type": "code",
   "execution_count": 170,
   "metadata": {
    "scrolled": true
   },
   "outputs": [
    {
     "data": {
      "image/png": "[encoded data removed]",
      "text/plain": [
       "<matplotlib.figure.Figure at 0x7f7aa40796a0>"
      ]
     },
     "metadata": {},
     "output_type": "display_data"
    }
   ],
   "source": [
    "import matplotlib.pyplot as plt\n",
    "% matplotlib inline\n",
    "plt.figure(1) \n",
    "plt.plot(rec,prec)\n",
    "plt.xlabel('recall')# make axis labels\n",
    "plt.ylabel('prec')\n",
    "plt.xlim(0,1.0)# set axis limits\n",
    "plt.ylim(0,1.0)\n",
    "plt.show()"
   ]
  },
  {
   "cell_type": "code",
   "execution_count": null,
   "metadata": {
    "collapsed": true
   },
   "outputs": [],
   "source": []
  },
  {
   "cell_type": "code",
   "execution_count": null,
   "metadata": {
    "collapsed": true
   },
   "outputs": [],
   "source": []
  },
  {
   "cell_type": "code",
   "execution_count": null,
   "metadata": {
    "collapsed": true
   },
   "outputs": [],
   "source": []
  },
  {
   "cell_type": "code",
   "execution_count": null,
   "metadata": {
    "collapsed": true
   },
   "outputs": [],
   "source": []
  },
  {
   "cell_type": "code",
   "execution_count": null,
   "metadata": {
    "collapsed": true
   },
   "outputs": [],
   "source": []
  },
  {
   "cell_type": "code",
   "execution_count": null,
   "metadata": {
    "collapsed": true
   },
   "outputs": [],
   "source": []
  },
  {
   "cell_type": "code",
   "execution_count": null,
   "metadata": {
    "collapsed": true
   },
   "outputs": [],
   "source": []
  }
 ],
 "metadata": {
  "anaconda-cloud": {},
  "kernelspec": {
   "display_name": "Python 3",
   "language": "python",
   "name": "python3"
  },
  "language_info": {
   "codemirror_mode": {
    "name": "ipython",
    "version": 3
   },
   "file_extension": ".py",
   "mimetype": "text/x-python",
   "name": "python",
   "nbconvert_exporter": "python",
   "pygments_lexer": "ipython3",
   "version": "3.5.2"
  }
 },
 "nbformat": 4,
 "nbformat_minor": 1
}
