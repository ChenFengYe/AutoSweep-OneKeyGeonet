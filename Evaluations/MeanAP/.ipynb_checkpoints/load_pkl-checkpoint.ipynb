{
 "cells": [
  {
   "cell_type": "code",
   "execution_count": 1,
   "metadata": {},
   "outputs": [
    {
     "name": "stdout",
     "output_type": "stream",
     "text": [
      "2.7.12 (default, Nov 19 2016, 06:48:10) \n",
      "[GCC 5.4.0 20160609]\n"
     ]
    }
   ],
   "source": [
    "import sys\n",
    "print(sys.version)\n",
    "import pickle\n",
    "import os\n",
    "import numpy as np\n",
    "import cv2\n",
    "import matplotlib.pyplot as plt\n",
    "% matplotlib inline"
   ]
  },
  {
   "cell_type": "code",
   "execution_count": 2,
   "metadata": {
    "collapsed": true
   },
   "outputs": [],
   "source": [
    "def mask_overlap(box1, box2, mask1, mask2):\n",
    "    \"\"\"\n",
    "    This function calculate region IOU when masks are\n",
    "    inside different boxes\n",
    "    Returns:\n",
    "        intersection over unions of this two masks\n",
    "    \"\"\"\n",
    "    x1 = max(box1[0], box2[0])\n",
    "    y1 = max(box1[1], box2[1])\n",
    "    x2 = min(box1[2], box2[2])\n",
    "    y2 = min(box1[3], box2[3])\n",
    "    if x1 > x2 or y1 > y2:\n",
    "        return 0\n",
    "    w = x2 - x1 + 1\n",
    "    h = y2 - y1 + 1\n",
    "    # get masks in the intersection part\n",
    "    start_ya = y1 - box1[1]\n",
    "    start_xa = x1 - box1[0]\n",
    "    inter_maska = mask1[start_ya: start_ya + h, start_xa:start_xa + w]\n",
    "\n",
    "    start_yb = y1 - box2[1]\n",
    "    start_xb = x1 - box2[0]\n",
    "    inter_maskb = mask2[start_yb: start_yb + h, start_xb:start_xb + w]\n",
    "\n",
    "    assert inter_maska.shape == inter_maskb.shape\n",
    "\n",
    "    inter = np.logical_and(inter_maskb, inter_maska).sum()\n",
    "    union = mask1.sum() + mask2.sum() - inter\n",
    "    if union < 1.0:\n",
    "        return 0\n",
    "    return float(inter) / float(union)"
   ]
  },
  {
   "cell_type": "code",
   "execution_count": 3,
   "metadata": {
    "collapsed": true
   },
   "outputs": [],
   "source": [
    "def voc_ap(rec, prec, use_07_metric=False):\n",
    "    \"\"\"\n",
    "    average precision calculations\n",
    "    [precision integrated to recall]\n",
    "    :param rec: recall\n",
    "    :param prec: precision\n",
    "    :param use_07_metric: 2007 metric is 11-recall-point based AP\n",
    "    :return: average precision\n",
    "    \"\"\"\n",
    "    if use_07_metric:\n",
    "        ap = 0.\n",
    "        for t in np.arange(0., 1.1, 0.1):\n",
    "            if np.sum(rec >= t) == 0:\n",
    "                p = 0\n",
    "            else:\n",
    "                p = np.max(prec[rec >= t])\n",
    "            ap += p / 11.\n",
    "    else:\n",
    "        # append sentinel values at both ends\n",
    "        mrec = np.concatenate(([0.], rec, [1.]))\n",
    "        mpre = np.concatenate(([0.], prec, [0.]))\n",
    "\n",
    "        # compute precision integration ladder\n",
    "        for i in range(mpre.size - 1, 0, -1):\n",
    "            mpre[i - 1] = np.maximum(mpre[i - 1], mpre[i])\n",
    "\n",
    "        # look for recall value changes\n",
    "        i = np.where(mrec[1:] != mrec[:-1])[0]\n",
    "\n",
    "        # sum (\\delta recall) * prec\n",
    "        ap = np.sum((mrec[i + 1] - mrec[i]) * mpre[i + 1])\n",
    "    return ap"
   ]
  },
  {
   "cell_type": "code",
   "execution_count": 4,
   "metadata": {
    "collapsed": true
   },
   "outputs": [],
   "source": [
    "def voc_eval_sds(det_file, seg_file, devkit_path, image_list, cls_name,\n",
    "                 class_names, mask_size, binary_thresh, ov_thresh=0.5):\n",
    "    # 1. Check whether ground truth cache file exists\n",
    "    with open(image_list, 'r') as f:\n",
    "        lines = f.readlines()\n",
    "    image_names = [x.strip() for x in lines]\n",
    "    #gt_cache = path + 'gt_pkl/' + cls_name + '_mask_gt.pkl'\n",
    "    #with open(gt_cache, 'rb') as f:\n",
    "    #    gt_pkl = pickle.load(f)\n",
    "\n",
    "    # 2. Get predict pickle file for this class\n",
    "    with open(det_file, 'rb') as f:\n",
    "        boxes_pkl = pickle.load(f)\n",
    "    with open(seg_file, 'rb') as f:\n",
    "        masks_pkl = pickle.load(f)\n",
    "\n",
    "    # 3. Pre-compute number of total instances to allocate memory\n",
    "    num_image = len(image_names)\n",
    "    box_num = 0\n",
    "    for im_i in xrange(num_image):\n",
    "        box_num += len(boxes_pkl[im_i])\n",
    "\n",
    "\n",
    "    # 4. Re-organize all the predicted boxes\n",
    "    new_boxes = np.zeros((box_num, 5))\n",
    "    #new_masks = np.zeros((box_num, mask_size, mask_size))\n",
    "    new_masks_mask = []\n",
    "    new_image = []\n",
    "    cnt = 0\n",
    "    for image_ind in xrange(len(image_names)):\n",
    "        boxes = boxes_pkl[image_ind]\n",
    "        masks = masks_pkl[image_ind]\n",
    "        num_instance = len(boxes)\n",
    "        for box_ind in xrange(num_instance):\n",
    "            new_boxes[cnt] = boxes[box_ind]\n",
    "            #new_masks[cnt] = masks[box_ind]\n",
    "            new_masks_mask.append(masks[box_ind])\n",
    "            new_image.append(image_names[image_ind])\n",
    "            cnt += 1\n",
    "\n",
    "    # 5. Rearrange boxes according to their scores\n",
    "    seg_scores = new_boxes[:, -1]      # score for every instance\n",
    "    \n",
    "    keep_inds = np.argsort(-seg_scores)\n",
    "    new_boxes = new_boxes[keep_inds, :]\n",
    "    #new_masks = new_masks[keep_inds, :, :]\n",
    "    num_pred = new_boxes.shape[0]\n",
    "    \n",
    "    order_mask = []\n",
    "    #order mask\n",
    "    for x in range(0,len(keep_inds)):\n",
    "        order_mask.append(new_masks_mask[keep_inds[x]])\n",
    "        \n",
    "#     # 4. Re-organize all the predicted boxes\n",
    "#     new_boxes = np.zeros((box_num, 5))\n",
    "#     new_masks = np.zeros((box_num, mask_size, mask_size))\n",
    "#     new_image = []\n",
    "#     cnt = 0\n",
    "#     for image_ind in xrange(len(image_names)):\n",
    "#         boxes = boxes_pkl[image_ind]\n",
    "#         masks = masks_pkl[image_ind]\n",
    "#         num_instance = len(boxes)\n",
    "#         for box_ind in xrange(num_instance):\n",
    "#             new_boxes[cnt] = boxes[box_ind]\n",
    "#             new_masks[cnt] = masks[box_ind]\n",
    "#             new_image.append(image_names[image_ind])\n",
    "#             cnt += 1\n",
    "\n",
    "#     # 5. Rearrange boxes according to their scores\n",
    "#     seg_scores = new_boxes[:, -1]      # score for every instance\n",
    "#     keep_inds = np.argsort(-seg_scores)\n",
    "#     new_boxes = new_boxes[keep_inds, :]\n",
    "#     new_masks = new_masks[keep_inds, :, :]\n",
    "#     num_pred = new_boxes.shape[0]\n",
    "    \n",
    "    import cv2\n",
    "    \n",
    "    instance_img_list = []\n",
    "    instance_mask_list = []\n",
    "    instance_box_list = []\n",
    "    # 6. Calculate t/f positive\n",
    "    fp = np.zeros((num_pred, 1))\n",
    "    tp = np.zeros((num_pred, 1))\n",
    "    for i in xrange(num_pred):\n",
    "        pred_box = np.round(new_boxes[i, :4]).astype(int)\n",
    "        pred_mask = order_mask[i]       # colorful image (21*21)\n",
    "        pred_mask = cv2.resize(pred_mask.astype(np.float32), (pred_box[2] - pred_box[0] + 1, pred_box[3] - pred_box[1] + 1))\n",
    "        pred_mask = pred_mask >= binary_thresh  # binary image \n",
    "        image_index = new_image[keep_inds[i]] #image name without suffix\n",
    "        \n",
    "        instance_img_list.append(image_index)\n",
    "        instance_mask_list.append(pred_mask)\n",
    "        instance_box_list.append(pred_box)\n",
    "        \n",
    "    seg_scores = seg_scores[keep_inds]    \n",
    "    return seg_scores,instance_img_list,instance_mask_list,instance_box_list"
   ]
  },
  {
   "cell_type": "code",
   "execution_count": 5,
   "metadata": {
    "collapsed": true
   },
   "outputs": [],
   "source": [
    "def voc_eval_sds_oripkl(det_file, seg_file, devkit_path, image_list, cls_name,\n",
    "                 class_names, mask_size, binary_thresh, ov_thresh=0.5):\n",
    "    # 1. Check whether ground truth cache file exists\n",
    "    with open(image_list, 'r') as f:\n",
    "        lines = f.readlines()\n",
    "    image_names = [x.strip() for x in lines]\n",
    "    gt_cache = path + 'gt_pkl/' + cls_name + '_mask_gt.pkl'\n",
    "    with open(gt_cache, 'rb') as f:\n",
    "        gt_pkl = pickle.load(f)\n",
    "\n",
    "    # 2. Get predict pickle file for this class\n",
    "    with open(det_file, 'rb') as f:\n",
    "        boxes_pkl = pickle.load(f)\n",
    "    with open(seg_file, 'rb') as f:\n",
    "        masks_pkl = pickle.load(f)\n",
    "\n",
    "    # 3. Pre-compute number of total instances to allocate memory\n",
    "    num_image = len(image_names)\n",
    "    box_num = 0\n",
    "    for im_i in xrange(num_image):\n",
    "        box_num += len(boxes_pkl[im_i])\n",
    "\n",
    "    print num_image\n",
    "    print box_num\n",
    "        \n",
    "    # 4. Re-organize all the predicted boxes\n",
    "    new_boxes = np.zeros((box_num, 5))\n",
    "    new_masks = np.zeros((box_num, mask_size, mask_size))\n",
    "    new_image = []\n",
    "    cnt = 0\n",
    "    for image_ind in xrange(len(image_names)):\n",
    "        boxes = boxes_pkl[image_ind]\n",
    "        masks = masks_pkl[image_ind]\n",
    "        num_instance = len(boxes)\n",
    "        for box_ind in xrange(num_instance):\n",
    "            new_boxes[cnt] = boxes[box_ind]\n",
    "            new_masks[cnt] = masks[box_ind]\n",
    "            new_image.append(image_names[image_ind])\n",
    "            cnt += 1\n",
    "\n",
    "    # 5. Rearrange boxes according to their scores\n",
    "    seg_scores = new_boxes[:, -1]      # score for every instance\n",
    "    keep_inds = np.argsort(-seg_scores)\n",
    "    new_boxes = new_boxes[keep_inds, :]\n",
    "    new_masks = new_masks[keep_inds, :, :]\n",
    "    num_pred = new_boxes.shape[0]\n",
    "    \n",
    "    import cv2\n",
    "    \n",
    "    instance_img_list = []\n",
    "    instance_mask_list = []\n",
    "    instance_box_list = []\n",
    "    # 6. Calculate t/f positive\n",
    "    fp = np.zeros((num_pred, 1))\n",
    "    tp = np.zeros((num_pred, 1))\n",
    "    for i in xrange(num_pred):\n",
    "        pred_box = np.round(new_boxes[i, :4]).astype(int)\n",
    "        pred_mask = new_masks[i]       # colorful image (21*21)\n",
    "        pred_mask = cv2.resize(pred_mask.astype(np.float32), (pred_box[2] - pred_box[0] + 1, pred_box[3] - pred_box[1] + 1))\n",
    "        pred_mask = pred_mask >= binary_thresh  # binary image \n",
    "        image_index = new_image[keep_inds[i]] #image name without suffix\n",
    "        \n",
    "        print   image_index+\" \"+cls_name+\" \"  + str(seg_scores[keep_inds[i]])\n",
    "                \n",
    "        if image_index not in gt_pkl:\n",
    "            fp[i] = 1\n",
    "            continue\n",
    "        gt_dict_list = gt_pkl[image_index]\n",
    "        # calculate max region overlap\n",
    "        cur_overlap = -1000\n",
    "        cur_overlap_ind = -1      \n",
    "        for ind2, gt_dict in enumerate(gt_dict_list):\n",
    "            gt_mask_bound = np.round(gt_dict['mask_bound']).astype(int)\n",
    "            pred_mask_bound = pred_box\n",
    "            ov = mask_overlap(gt_mask_bound, pred_mask_bound, gt_dict['mask'], pred_mask)\n",
    "            if ov > cur_overlap:\n",
    "                cur_overlap = ov\n",
    "                cur_overlap_ind = ind2\n",
    "        if cur_overlap >= ov_thresh:\n",
    "            if gt_dict_list[cur_overlap_ind]['already_detect']:\n",
    "                fp[i] = 1\n",
    "            else:\n",
    "                tp[i] = 1\n",
    "                gt_dict_list[cur_overlap_ind]['already_detect'] = 1\n",
    "        else:\n",
    "            fp[i] = 1\n",
    "    \n",
    "    # 7. Calculate precision\n",
    "    num_pos = 0\n",
    "    for key, val in gt_pkl.iteritems():\n",
    "        num_pos += len(val)\n",
    "    print num_pos\n",
    "    fp = np.cumsum(fp)\n",
    "    tp = np.cumsum(tp)\n",
    "    rec = tp / float(num_pos)\n",
    "    # avoid divide by zero in case the first matches a difficult gt\n",
    "    prec = tp / np.maximum(fp+tp, np.finfo(np.float64).eps)\n",
    "    ap = voc_ap(rec, prec, True)\n",
    "    return ap"
   ]
  },
  {
   "cell_type": "markdown",
   "metadata": {
    "collapsed": true
   },
   "source": [
    "with open('Exper_FCIS_DCN/gt_pkl/CylinderBody_mask_gt.pkl', 'rb') as f:\n",
    "    gt_pkl = pickle.load(f)"
   ]
  },
  {
   "cell_type": "markdown",
   "metadata": {},
   "source": [
    "with open('Exper_FCIS_DCN/10_30_FCIS_DCN/CubeBody_det.pkl', 'rb') as f:\n",
    "    boxes_pkl = pickle.load(f)\n",
    "print(len(boxes_pkl))\n",
    "\n",
    "for i in boxes_pkl:\n",
    "    for j in i:\n",
    "        assert len(j)==5\n",
    "        print j\n",
    "\n",
    "#print(boxes_pkl[0][0])"
   ]
  },
  {
   "cell_type": "raw",
   "metadata": {},
   "source": [
    "#with open('Exper_FCIS_DCN/FCIS_baseline_pkl/CylinderFace_det.pkl', 'rb') as f:\n",
    "#    boxes_pkl = pickle.load(f)\n",
    "#print(len(boxes_pkl))\n",
    "#print(len(boxes_pkl[0]))\n",
    "#print(boxes_pkl[3][0])\n",
    "\n",
    "\n",
    "# with open('Exper_FCIS_DCN/FCIS_baseline_pkl/CylinderFace_seg.pkl', 'rb') as f:\n",
    "#     maskes_pkl = pickle.load(f)\n",
    "# #print(len(maskes_pkl))\n",
    "#print(len(maskes_pkl[0]))\n",
    "\n",
    "# import matplotlib.pyplot as plt\n",
    "# % matplotlib inline\n",
    "# plt.imshow(maskes_pkl[1][0])\n",
    "#print maskes_pkl[0][0]\n",
    "\n",
    "\n",
    "print(len(gt_pkl))\n",
    "for gt_dict1 in gt_pkl:\n",
    "    gt_dict_list = gt_pkl[gt_dict1]\n",
    "    for ind2, gt_dict in enumerate(gt_dict_list):\n",
    "        #plt.figure()\n",
    "        temp = gt_dict['mask']\n",
    "        temp = np.array(temp)\n",
    "        img = np.zeros((len(temp),len(temp[0])),np.uint8)\n",
    "        for i in range(0, img.shape[0]):\n",
    "            for j in range(0,img.shape[1]):\n",
    "                img[i,j] = gt_dict['mask'][i,j]\n",
    "        #img = gt_dict['mask'][:]\n",
    "        #print img\n",
    "        img[img>=1] = 255\n",
    "        print 'Exper_FCIS_DCN/gt_pkl/cb/'+gt_dict1+'_'+str(ind2)+'.png'\n",
    "        cv2.imwrite('Exper_FCIS_DCN/gt_pkl/cb/'+gt_dict1+'_'+str(ind2)+'.png',img)\n",
    "#print(gt_pkl.mask)\n",
    "#print(len(gt_pkl[0]))\n",
    "#print(gt_pkl[3][0])"
   ]
  },
  {
   "cell_type": "code",
   "execution_count": null,
   "metadata": {
    "collapsed": true
   },
   "outputs": [],
   "source": []
  },
  {
   "cell_type": "code",
   "execution_count": 13,
   "metadata": {
    "collapsed": true
   },
   "outputs": [],
   "source": [
    "def voc_eval_sds_ori(det_file, seg_file, gt_dir, image_list, cls_name,\n",
    "                 class_names, mask_size, binary_thresh, ov_thresh,use07):\n",
    "    # 1. Check whether ground truth cache file exists\n",
    "    with open(image_list, 'r') as f:\n",
    "        lines = f.readlines()\n",
    "    image_names = [x.strip() for x in lines]\n",
    "    gt_cache = gt_dir+'/'+ cls_name + '_mask_gt.pkl' \n",
    "    with open(gt_cache, 'rb') as f:\n",
    "        gt_pkl = pickle.load(f)\n",
    "\n",
    "    # 2. Get predict pickle file for this class\n",
    "    with open(det_file, 'rb') as f:\n",
    "        boxes_pkl = pickle.load(f)\n",
    "    with open(seg_file, 'rb') as f:\n",
    "        masks_pkl = pickle.load(f)\n",
    "\n",
    "    # 3. Pre-compute number of total instances to allocate memory\n",
    "    num_image = len(image_names)\n",
    "    box_num = 0\n",
    "    \n",
    "\n",
    "    \n",
    "    for im_i in xrange(num_image):\n",
    "        box_num += len(boxes_pkl[im_i])\n",
    "        \n",
    "#     print(num_image)\n",
    "#     print(box_num)\n",
    "    \n",
    "    # 4. Re-organize all the predicted boxes\n",
    "    new_boxes = np.zeros((box_num, 5))\n",
    "    #new_masks = np.zeros((box_num, mask_size, mask_size))\n",
    "    new_masks_mask = []\n",
    "    new_image = []\n",
    "    cnt = 0\n",
    "    for image_ind in xrange(len(image_names)):\n",
    "        boxes = boxes_pkl[image_ind]\n",
    "        masks = masks_pkl[image_ind]\n",
    "        num_instance = len(boxes)\n",
    "        for box_ind in xrange(num_instance):\n",
    "            new_boxes[cnt] = boxes[box_ind]\n",
    "            #new_masks[cnt] = masks[box_ind]\n",
    "            new_masks_mask.append(masks[box_ind])\n",
    "            new_image.append(image_names[image_ind])\n",
    "            cnt += 1\n",
    "\n",
    "    # 5. Rearrange boxes according to their scores\n",
    "    seg_scores = new_boxes[:, -1]      # score for every instance\n",
    "    \n",
    "    keep_inds = np.argsort(-seg_scores)\n",
    "    new_boxes = new_boxes[keep_inds, :]\n",
    "    #new_masks = new_masks[keep_inds, :, :]\n",
    "    num_pred = new_boxes.shape[0]\n",
    "    \n",
    "    order_mask = []\n",
    "    #order mask\n",
    "    for x in range(0,len(keep_inds)):\n",
    "        order_mask.append(new_masks_mask[keep_inds[x]])\n",
    "    \n",
    "    \n",
    "    import cv2\n",
    "    \n",
    "    instance_img_list = []\n",
    "    instance_mask_list = []\n",
    "    instance_box_list = []\n",
    "    # 6. Calculate t/f positive\n",
    "    fp = np.zeros((num_pred, 1))\n",
    "    tp = np.zeros((num_pred, 1))\n",
    "    for i in xrange(num_pred):\n",
    "        pred_box = np.round(new_boxes[i, :4]).astype(int)\n",
    "        #pred_mask = new_masks[i]       # colorful image (21*21)\n",
    "        #pred_mask = cv2.resize(pred_mask.astype(np.float32), (pred_box[2] - pred_box[0] + 1, pred_box[3] - pred_box[1] + 1))\n",
    "        pred_mask = order_mask[i]\n",
    "        #pred_mask = pred_mask >= binary_thresh  # binary image \n",
    "        image_index = new_image[keep_inds[i]] #image name without suffix\n",
    "       \n",
    "       \n",
    "        if image_index not in gt_pkl:\n",
    "            fp[i] = 1\n",
    "#             print   image_index+\" \"+cls_name+\" \"  + str(seg_scores[keep_inds[i]]) + ' 0'\n",
    "            continue\n",
    "        gt_dict_list = gt_pkl[image_index]\n",
    "        # calculate max region overlap\n",
    "        cur_overlap = -1000\n",
    "        cur_overlap_ind = -1\n",
    "        for ind2, gt_dict in enumerate(gt_dict_list):\n",
    "            gt_mask_bound = np.round(gt_dict['mask_bound']).astype(int)\n",
    "            pred_mask_bound = pred_box\n",
    "            \n",
    "            ov = mask_overlap(gt_mask_bound, pred_mask_bound, gt_dict['mask'], pred_mask)\n",
    "            if ov > cur_overlap:\n",
    "                cur_overlap = ov\n",
    "                cur_overlap_ind = ind2\n",
    "        \n",
    "        if cur_overlap >= ov_thresh:\n",
    "            if gt_dict_list[cur_overlap_ind]['already_detect']:\n",
    "                fp[i] = 1\n",
    "#                 print image_index+\" \"+cls_name+\" \"  + str(seg_scores[keep_inds[i]]) + \" 0\"\n",
    "            else:\n",
    "                tp[i] = 1\n",
    "#                 print image_index+\" \"+cls_name+\" \"  + str(seg_scores[keep_inds[i]]) + \" \" + str(cur_overlap)\n",
    "                gt_dict_list[cur_overlap_ind]['already_detect'] = 1\n",
    "        else:\n",
    "#             print image_index+\" \"+cls_name+\" \"  + str(seg_scores[keep_inds[i]]) + \" \" + str(cur_overlap)\n",
    "            fp[i] = 1\n",
    "\n",
    "    # 7. Calculate precision\n",
    "    num_pos = 0\n",
    "    for key, val in gt_pkl.iteritems():\n",
    "        num_pos += len(val)\n",
    "#     print num_pos\n",
    "    fp = np.cumsum(fp)\n",
    "    tp = np.cumsum(tp)\n",
    "    rec = tp / float(num_pos)\n",
    "    # avoid divide by zero in case the first matches a difficult gt\n",
    "    prec = tp / np.maximum(fp+tp, np.finfo(np.float64).eps)\n",
    "    \n",
    "#     print rec\n",
    "#     print prec\n",
    "    \n",
    "    ap = voc_ap(rec, prec, use07)\n",
    "    return ap"
   ]
  },
  {
   "cell_type": "code",
   "execution_count": 14,
   "metadata": {
    "collapsed": true
   },
   "outputs": [],
   "source": [
    "classes = ['CubeBody','CubeFace','CylinderBody','CylinderFace']\n",
    "mask_size = 21\n",
    "binary_thresh = 0.4\n",
    "\n",
    "info_str = ''\n",
    "path =  'Exper_FCIS_DCN/'\n",
    "data_path =  path+'FCIS_baseline/'\n",
    "\n",
    "#gt_dir = data_path[:len(data_path)-6]+'_pkl/'\n",
    "\n",
    "gt_dir = path+'gt_pkl'\n",
    "\n",
    "imageset_file = os.path.join(path, 'val.txt')\n",
    "aps = []"
   ]
  },
  {
   "cell_type": "code",
   "execution_count": 15,
   "metadata": {
    "scrolled": true
   },
   "outputs": [
    {
     "name": "stdout",
     "output_type": "stream",
     "text": [
      "Exper_FCIS_DCN/FCIS_baseline/\n",
      "~~~~~~ Evaluation use min overlap = 0.5 ~~~~~~\n",
      "AP for CubeBody = 66.71\n",
      "AP for CubeFace = 57.38\n",
      "AP for CylinderBody = 9.09\n",
      "AP for CylinderFace = 17.28\n",
      "Mean AP@0.5 = 37.61\n"
     ]
    }
   ],
   "source": [
    "#thresh =  np.arange(0.5,1.0,0.05)\n",
    "thresh =  [0.5]\n",
    "ap_all = np.zeros([len(thresh),len(classes)+1])\n",
    "print data_path\n",
    "for x_t in range(0,len(thresh)):\n",
    "    aps = []\n",
    "    ap = []\n",
    "    thresh_ = thresh[x_t]\n",
    "    # define this as true according to SDS's evaluation protocol\n",
    "    use07 = True\n",
    "    print '~~~~~~ Evaluation use min overlap = '+str(thresh_)+' ~~~~~~'\n",
    "    info_str += '~~~~~~ Evaluation use min overlap = '+str(thresh_)+' ~~~~~~'\n",
    "    info_str += '\\n'\n",
    "    for i, cls in enumerate(classes):\n",
    "        if cls == '__background__':\n",
    "            continue\n",
    "        det_filename = os.path.join(data_path, cls + '_det.pkl')\n",
    "        seg_filename = os.path.join(data_path, cls + '_seg.pkl')\n",
    "        \n",
    "#         ap = voc_eval_sds_ori(det_filename, seg_filename, gt_dir,\n",
    "#                           imageset_file, cls, classes, mask_size, binary_thresh, thresh_,use07)\n",
    "#         aps += [ap]\n",
    "#         ap_all[x_t][i] = ap\n",
    "        \n",
    "#         print('AP for {} = {:.2f}'.format(cls, ap*100))\n",
    "#         info_str += 'AP for {} = {:.2f}\\n'.format(cls, ap*100)\n",
    "#     ap_all[x_t][len(classes)] = np.mean(aps)\n",
    "#     print('Mean AP@'+str(thresh_)+' = {:.2f}'.format(np.mean(aps)*100))\n",
    "#     info_str += 'Mean AP@'+str(thresh_)+'  = {:.2f}\\n'.format(np.mean(aps)*100)\n",
    "\n",
    "##############save pkl as scores and instance\n",
    "        seg_scores,instance_img_list,instance_mask_list,instance_box_list  = voc_eval_sds(det_filename, seg_filename, gt_dir,\n",
    "                          imageset_file, cls, classes, mask_size, binary_thresh, ov_thresh=0.5)\n",
    "\n",
    "        print(len(seg_scores))\n",
    "\n",
    "        savepath = 'Exper_FCIS_DCN/11_13_FCIS_ob_lr_0002_iter_1_SCORE/' + cls + '/'\n",
    "        os.mkdir(savepath)\n",
    "        for x in range(0,len(instance_mask_list)):\n",
    "            #print(instance_img_list[x]+'_'+str(seg_scores[x]))\n",
    "            np.save(savepath+instance_img_list[x]+'_'+str(seg_scores[x])+'.npy',instance_mask_list[x])\n",
    "            np.save(savepath+instance_img_list[x]+'_'+str(seg_scores[x])+'_box'+'.npy',instance_box_list[x])"
   ]
  },
  {
   "cell_type": "code",
   "execution_count": 69,
   "metadata": {},
   "outputs": [
    {
     "name": "stdout",
     "output_type": "stream",
     "text": [
      "[ 0.5   0.55  0.6   0.65  0.7   0.75  0.8   0.85  0.9   0.95]\n"
     ]
    }
   ],
   "source": [
    "print thresh"
   ]
  },
  {
   "cell_type": "code",
   "execution_count": null,
   "metadata": {
    "collapsed": true
   },
   "outputs": [],
   "source": [
    "print rec\n",
    "print pre"
   ]
  },
  {
   "cell_type": "code",
   "execution_count": 70,
   "metadata": {
    "scrolled": true
   },
   "outputs": [
    {
     "name": "stdout",
     "output_type": "stream",
     "text": [
      "[[  6.67081313e-01   5.73755599e-01   9.09090909e-02   1.72809173e-01\n",
      "    3.76138794e-01]\n",
      " [  6.25262958e-01   5.71874200e-01   9.09090909e-02   1.71662572e-01\n",
      "    3.64927205e-01]\n",
      " [  6.14834881e-01   5.66388254e-01   9.09090909e-02   1.68741138e-01\n",
      "    3.60218341e-01]\n",
      " [  6.06730004e-01   5.63871468e-01   9.09090909e-02   1.65151515e-01\n",
      "    3.56665519e-01]\n",
      " [  5.98199879e-01   5.57862210e-01   9.09090909e-02   1.59193747e-01\n",
      "    3.51541232e-01]\n",
      " [  5.48882986e-01   5.08411028e-01   9.09090909e-02   1.48313027e-01\n",
      "    3.24129033e-01]\n",
      " [  5.10070350e-01   4.70493202e-01   9.09090909e-02   9.09090909e-02\n",
      "    2.90595433e-01]\n",
      " [  4.08733669e-01   3.89447549e-01   9.09090909e-02   9.09090909e-02\n",
      "    2.44999850e-01]\n",
      " [  2.47164734e-01   2.43570285e-01   3.96213956e-03   9.09090909e-02\n",
      "    1.46401562e-01]\n",
      " [  1.10864745e-02   6.06060606e-02   0.00000000e+00   5.13610683e-04\n",
      "    1.80515364e-02]]\n"
     ]
    }
   ],
   "source": [
    "print(ap_all)"
   ]
  },
  {
   "cell_type": "code",
   "execution_count": 66,
   "metadata": {},
   "outputs": [
    {
     "name": "stdout",
     "output_type": "stream",
     "text": [
      "[ 0.64943764  0.64385706  0.61879461  0.59446088  0.55965896  0.50959133\n",
      "  0.42387428  0.33379603  0.21254464  0.040937  ]\n"
     ]
    }
   ],
   "source": [
    "print(ap_all[:,4])"
   ]
  },
  {
   "cell_type": "code",
   "execution_count": 177,
   "metadata": {
    "collapsed": true
   },
   "outputs": [],
   "source": [
    "fcis_nodcn_s = ap_all"
   ]
  },
  {
   "cell_type": "code",
   "execution_count": 170,
   "metadata": {
    "collapsed": true
   },
   "outputs": [],
   "source": [
    "fcis_dcn_s = ap_all"
   ]
  },
  {
   "cell_type": "code",
   "execution_count": 154,
   "metadata": {
    "collapsed": true
   },
   "outputs": [],
   "source": [
    "fcis_dcn = [[0.89671464, 0.80811997,0.80433014,0.69036066,0.70205891,0.78031686],\n",
    "                [0.80752439,0.79859498,0.79981102,0.67027688,0.69816226,0.75487391],\n",
    "[0.80564127,0.79721018,0.79873692,0.59218483,0.69543161,0.73784096],\n",
    "[0.80368112,0.7955882,0.79677229,0.58848587,0.69384978,0.73567545],\n",
    "[0.80044383,0.79403178,0.79281434,0.5817556,0.68869223,0.73154756],\n",
    "[0.79471334,0.79147335,0.78493712,0.56516518,0.60699796,0.70865739],\n",
    "[0.78891083,0.70948498,0.69705205,0.47398238,0.59474397,0.65283484],\n",
    "[0.78193287,0.70206013,0.67547183,0.37589996,0.49073879,0.60522072],\n",
    "[0.68850125,0.68137812,0.55901029,0.25820763,0.26943582,0.49130662],\n",
    "[0.49552929,0.40419021,0.25712471,0.09189706,0.01090909,0.25193007],\n",
    "[0.0    ,      0.0     ,     0.0    ,     0.0       ,  0.0    ,    0.0      ]]"
   ]
  },
  {
   "cell_type": "code",
   "execution_count": 156,
   "metadata": {},
   "outputs": [
    {
     "data": {
      "text/plain": [
       "[[0.89671464, 0.80811997, 0.80433014, 0.69036066, 0.70205891, 0.78031686],\n",
       " [0.80752439, 0.79859498, 0.79981102, 0.67027688, 0.69816226, 0.75487391],\n",
       " [0.80564127, 0.79721018, 0.79873692, 0.59218483, 0.69543161, 0.73784096],\n",
       " [0.80368112, 0.7955882, 0.79677229, 0.58848587, 0.69384978, 0.73567545],\n",
       " [0.80044383, 0.79403178, 0.79281434, 0.5817556, 0.68869223, 0.73154756],\n",
       " [0.79471334, 0.79147335, 0.78493712, 0.56516518, 0.60699796, 0.70865739],\n",
       " [0.78891083, 0.70948498, 0.69705205, 0.47398238, 0.59474397, 0.65283484],\n",
       " [0.78193287, 0.70206013, 0.67547183, 0.37589996, 0.49073879, 0.60522072],\n",
       " [0.68850125, 0.68137812, 0.55901029, 0.25820763, 0.26943582, 0.49130662],\n",
       " [0.49552929, 0.40419021, 0.25712471, 0.09189706, 0.01090909, 0.25193007],\n",
       " [0.0, 0.0, 0.0, 0.0, 0.0, 0.0]]"
      ]
     },
     "execution_count": 156,
     "metadata": {},
     "output_type": "execute_result"
    }
   ],
   "source": [
    "fcis_dcn"
   ]
  },
  {
   "cell_type": "code",
   "execution_count": 162,
   "metadata": {
    "collapsed": true
   },
   "outputs": [],
   "source": [
    "fcis_dcn = np.array(fcis_dcn)"
   ]
  },
  {
   "cell_type": "code",
   "execution_count": 180,
   "metadata": {},
   "outputs": [
    {
     "data": {
      "image/png": "[encoded data removed]",
      "text/plain": [
       "<matplotlib.figure.Figure at 0x7fc078151250>"
      ]
     },
     "metadata": {},
     "output_type": "display_data"
    }
   ],
   "source": [
    "import matplotlib.pyplot as plt\n",
    "% matplotlib inline\n",
    "plt.figure(1) \n",
    "xxx =  np.arange(0.5,1.0,0.05)\n",
    "plt.plot(xxx,fcis_nodcn_s[:,-1],label='FCIS+DCN')\n",
    "plt.plot(xxx,fcis_dcn_s[:,-1],label='FCIS')\n",
    "\n",
    "#plt.plot(xxx,mask_rcnn[:,-1],'o-',label='Mask-RCNN')\n",
    "#plt.plot(xxx,mask_rcnn_dcn[:,-1],'o-',label='Mask-RCNN+DCN')\n",
    "plt.xlabel('Overlap Threshold')# make axis labels\n",
    "plt.ylabel('mAP')\n",
    "legend = plt.legend(fontsize='10')\n",
    "plt.xlim(0.5,0.9)# set axis limits\n",
    "plt.ylim(0.2,0.8)\n",
    "plt.grid(True) \n",
    "plt.show()"
   ]
  },
  {
   "cell_type": "code",
   "execution_count": 172,
   "metadata": {},
   "outputs": [
    {
     "ename": "NameError",
     "evalue": "name 'fcis_lr2' is not defined",
     "output_type": "error",
     "traceback": [
      "\u001b[0;31m---------------------------------------------------------------------------\u001b[0m",
      "\u001b[0;31mNameError\u001b[0m                                 Traceback (most recent call last)",
      "\u001b[0;32m<ipython-input-172-4a40bbcd6738>\u001b[0m in \u001b[0;36m<module>\u001b[0;34m()\u001b[0m\n\u001b[1;32m      3\u001b[0m \u001b[0mplt\u001b[0m\u001b[0;34m.\u001b[0m\u001b[0mfigure\u001b[0m\u001b[0;34m(\u001b[0m\u001b[0;36m1\u001b[0m\u001b[0;34m)\u001b[0m\u001b[0;34m\u001b[0m\u001b[0m\n\u001b[1;32m      4\u001b[0m \u001b[0mxxx\u001b[0m \u001b[0;34m=\u001b[0m  \u001b[0mnp\u001b[0m\u001b[0;34m.\u001b[0m\u001b[0marange\u001b[0m\u001b[0;34m(\u001b[0m\u001b[0;36m0\u001b[0m\u001b[0;34m,\u001b[0m\u001b[0;36m1.1\u001b[0m\u001b[0;34m,\u001b[0m\u001b[0;36m0.1\u001b[0m\u001b[0;34m)\u001b[0m\u001b[0;34m\u001b[0m\u001b[0m\n\u001b[0;32m----> 5\u001b[0;31m \u001b[0mplt\u001b[0m\u001b[0;34m.\u001b[0m\u001b[0mplot\u001b[0m\u001b[0;34m(\u001b[0m\u001b[0mxxx\u001b[0m\u001b[0;34m,\u001b[0m\u001b[0mfcis_lr2\u001b[0m\u001b[0;34m[\u001b[0m\u001b[0;34m:\u001b[0m\u001b[0;34m,\u001b[0m\u001b[0;34m-\u001b[0m\u001b[0;36m1\u001b[0m\u001b[0;34m]\u001b[0m\u001b[0;34m,\u001b[0m\u001b[0mlabel\u001b[0m\u001b[0;34m=\u001b[0m\u001b[0;34m'FCIS'\u001b[0m\u001b[0;34m)\u001b[0m\u001b[0;34m\u001b[0m\u001b[0m\n\u001b[0m\u001b[1;32m      6\u001b[0m \u001b[0;31m#plt.plot(thresh,fcis_lr5[:,-1],label='FCIS-lr0.0005')\u001b[0m\u001b[0;34m\u001b[0m\u001b[0;34m\u001b[0m\u001b[0m\n\u001b[1;32m      7\u001b[0m \u001b[0mplt\u001b[0m\u001b[0;34m.\u001b[0m\u001b[0mplot\u001b[0m\u001b[0;34m(\u001b[0m\u001b[0mxxx\u001b[0m\u001b[0;34m,\u001b[0m\u001b[0mfcis_dcn\u001b[0m\u001b[0;34m[\u001b[0m\u001b[0;34m:\u001b[0m\u001b[0;34m,\u001b[0m\u001b[0;34m-\u001b[0m\u001b[0;36m1\u001b[0m\u001b[0;34m]\u001b[0m\u001b[0;34m,\u001b[0m\u001b[0mlabel\u001b[0m\u001b[0;34m=\u001b[0m\u001b[0;34m'FCIS+DCN'\u001b[0m\u001b[0;34m)\u001b[0m\u001b[0;34m\u001b[0m\u001b[0m\n",
      "\u001b[0;31mNameError\u001b[0m: name 'fcis_lr2' is not defined"
     ]
    },
    {
     "data": {
      "text/plain": [
       "<matplotlib.figure.Figure at 0x7fc07a0d2e50>"
      ]
     },
     "metadata": {},
     "output_type": "display_data"
    }
   ],
   "source": [
    "import matplotlib.pyplot as plt\n",
    "% matplotlib inline\n",
    "plt.figure(1) \n",
    "xxx =  np.arange(0,1.1,0.1)\n",
    "plt.plot(xxx,fcis_lr2[:,-1],label='FCIS')\n",
    "#plt.plot(thresh,fcis_lr5[:,-1],label='FCIS-lr0.0005')\n",
    "plt.plot(xxx,fcis_dcn[:,-1],label='FCIS+DCN')\n",
    "plt.plot(xxx,mask_rcnn[:,-1],label='Mask-RCNN')\n",
    "plt.plot(xxx,mask_rcnn_dcn[:,-1],label='Mask-RCNN+DCN')\n",
    "plt.xlabel('Overlap Threshold')# make axis labels\n",
    "plt.ylabel('mAP')\n",
    "legend = plt.legend(fontsize='10')\n",
    "plt.xlim(0.5,1.0)# set axis limits\n",
    "plt.ylim(0,1.0)\n",
    "plt.grid(True) \n",
    "plt.show()"
   ]
  },
  {
   "cell_type": "code",
   "execution_count": null,
   "metadata": {
    "collapsed": true
   },
   "outputs": [],
   "source": []
  },
  {
   "cell_type": "code",
   "execution_count": null,
   "metadata": {
    "collapsed": true
   },
   "outputs": [],
   "source": []
  },
  {
   "cell_type": "code",
   "execution_count": null,
   "metadata": {
    "collapsed": true
   },
   "outputs": [],
   "source": []
  },
  {
   "cell_type": "code",
   "execution_count": null,
   "metadata": {
    "collapsed": true
   },
   "outputs": [],
   "source": []
  },
  {
   "cell_type": "code",
   "execution_count": null,
   "metadata": {
    "collapsed": true
   },
   "outputs": [],
   "source": []
  },
  {
   "cell_type": "code",
   "execution_count": null,
   "metadata": {
    "collapsed": true
   },
   "outputs": [],
   "source": []
  },
  {
   "cell_type": "code",
   "execution_count": 15,
   "metadata": {},
   "outputs": [
    {
     "name": "stdout",
     "output_type": "stream",
     "text": [
      "~~~~~~ Evaluation use min overlap = 0.7 ~~~~~~\n",
      "AP for CubeBody = 9.09\n",
      "AP for CubeFace = 9.09\n",
      "AP for CylinderBody = 0.00\n",
      "AP for CylinderFace = 0.00\n",
      "Mean AP@0.7 = 4.55\n"
     ]
    }
   ],
   "source": [
    "print '~~~~~~ Evaluation use min overlap = 0.7 ~~~~~~'\n",
    "info_str += '~~~~~~ Evaluation use min overlap = 0.7 ~~~~~~\\n'\n",
    "aps = []\n",
    "for i, cls in enumerate(classes):\n",
    "    if cls == '__background__':\n",
    "        continue\n",
    "    det_filename = os.path.join(data_path, cls + '_det.pkl')\n",
    "    seg_filename = os.path.join(data_path, cls + '_seg.pkl')\n",
    "    ap = voc_eval_sds_ori(det_filename, seg_filename, gt_dir,\n",
    "                      imageset_file, cls, classes, mask_size, binary_thresh, ov_thresh=0.7)\n",
    "    aps += [ap]\n",
    "    print('AP for {} = {:.2f}'.format(cls, ap*100))\n",
    "    info_str += 'AP for {} = {:.2f}\\n'.format(cls, ap*100)\n",
    "print('Mean AP@0.7 = {:.2f}'.format(np.mean(aps)*100))\n",
    "info_str += 'Mean AP@0.7 = {:.2f}\\n'.format(np.mean(aps)*100)"
   ]
  },
  {
   "cell_type": "code",
   "execution_count": null,
   "metadata": {
    "collapsed": true
   },
   "outputs": [],
   "source": []
  }
 ],
 "metadata": {
  "kernelspec": {
   "display_name": "Python 2",
   "language": "python",
   "name": "python2"
  },
  "language_info": {
   "codemirror_mode": {
    "name": "ipython",
    "version": 2
   },
   "file_extension": ".py",
   "mimetype": "text/x-python",
   "name": "python",
   "nbconvert_exporter": "python",
   "pygments_lexer": "ipython2",
   "version": "2.7.12"
  }
 },
 "nbformat": 4,
 "nbformat_minor": 2
}
