{
 "cells": [
  {
   "cell_type": "code",
   "execution_count": 27,
   "metadata": {
    "collapsed": true
   },
   "outputs": [],
   "source": [
    "import os\n",
    "from glob import glob #用到了这个模块\n",
    "def search_file(pattern, search_path=os.environ['PATH'], pathsep=os.pathsep):\n",
    "    for path in search_path.split(os.pathsep):\n",
    "        for match in glob(os.path.join(path, pattern)):\n",
    "            yield match"
   ]
  },
  {
   "cell_type": "code",
   "execution_count": 28,
   "metadata": {
    "collapsed": true
   },
   "outputs": [],
   "source": [
    " matchs = list(search_file('bal_00003_*.npy','/home/icl/chenxin/onekeyGeonet/Evaluations/MeanAP/Exper_FCIS_DCN/10_30_FCIS_DCN_SCORE/CubeBody'))"
   ]
  },
  {
   "cell_type": "code",
   "execution_count": 29,
   "metadata": {},
   "outputs": [
    {
     "name": "stdout",
     "output_type": "stream",
     "text": [
      "['/home/icl/chenxin/onekeyGeonet/Evaluations/MeanAP/Exper_FCIS_DCN/10_30_FCIS_DCN_SCORE/CubeBody/bal_00003_0.00367685942911.npy', '/home/icl/chenxin/onekeyGeonet/Evaluations/MeanAP/Exper_FCIS_DCN/10_30_FCIS_DCN_SCORE/CubeBody/bal_00003_0.00367685942911_box.npy', '/home/icl/chenxin/onekeyGeonet/Evaluations/MeanAP/Exper_FCIS_DCN/10_30_FCIS_DCN_SCORE/CubeBody/bal_00003_0.00170613604132.npy', '/home/icl/chenxin/onekeyGeonet/Evaluations/MeanAP/Exper_FCIS_DCN/10_30_FCIS_DCN_SCORE/CubeBody/bal_00003_0.00342953717336.npy', '/home/icl/chenxin/onekeyGeonet/Evaluations/MeanAP/Exper_FCIS_DCN/10_30_FCIS_DCN_SCORE/CubeBody/bal_00003_0.0941388309002.npy', '/home/icl/chenxin/onekeyGeonet/Evaluations/MeanAP/Exper_FCIS_DCN/10_30_FCIS_DCN_SCORE/CubeBody/bal_00003_0.0180576890707_box.npy', '/home/icl/chenxin/onekeyGeonet/Evaluations/MeanAP/Exper_FCIS_DCN/10_30_FCIS_DCN_SCORE/CubeBody/bal_00003_0.0694542527199_box.npy', '/home/icl/chenxin/onekeyGeonet/Evaluations/MeanAP/Exper_FCIS_DCN/10_30_FCIS_DCN_SCORE/CubeBody/bal_00003_0.0182110313326.npy', '/home/icl/chenxin/onekeyGeonet/Evaluations/MeanAP/Exper_FCIS_DCN/10_30_FCIS_DCN_SCORE/CubeBody/bal_00003_0.00323179387487.npy', '/home/icl/chenxin/onekeyGeonet/Evaluations/MeanAP/Exper_FCIS_DCN/10_30_FCIS_DCN_SCORE/CubeBody/bal_00003_0.0180576890707.npy', '/home/icl/chenxin/onekeyGeonet/Evaluations/MeanAP/Exper_FCIS_DCN/10_30_FCIS_DCN_SCORE/CubeBody/bal_00003_0.00141978857573_box.npy', '/home/icl/chenxin/onekeyGeonet/Evaluations/MeanAP/Exper_FCIS_DCN/10_30_FCIS_DCN_SCORE/CubeBody/bal_00003_0.00170613604132_box.npy', '/home/icl/chenxin/onekeyGeonet/Evaluations/MeanAP/Exper_FCIS_DCN/10_30_FCIS_DCN_SCORE/CubeBody/bal_00003_0.0011878090445.npy', '/home/icl/chenxin/onekeyGeonet/Evaluations/MeanAP/Exper_FCIS_DCN/10_30_FCIS_DCN_SCORE/CubeBody/bal_00003_0.00361079350114.npy', '/home/icl/chenxin/onekeyGeonet/Evaluations/MeanAP/Exper_FCIS_DCN/10_30_FCIS_DCN_SCORE/CubeBody/bal_00003_0.00111285434105_box.npy', '/home/icl/chenxin/onekeyGeonet/Evaluations/MeanAP/Exper_FCIS_DCN/10_30_FCIS_DCN_SCORE/CubeBody/bal_00003_0.999640226364_box.npy', '/home/icl/chenxin/onekeyGeonet/Evaluations/MeanAP/Exper_FCIS_DCN/10_30_FCIS_DCN_SCORE/CubeBody/bal_00003_0.00342953717336_box.npy', '/home/icl/chenxin/onekeyGeonet/Evaluations/MeanAP/Exper_FCIS_DCN/10_30_FCIS_DCN_SCORE/CubeBody/bal_00003_0.00930914469063_box.npy', '/home/icl/chenxin/onekeyGeonet/Evaluations/MeanAP/Exper_FCIS_DCN/10_30_FCIS_DCN_SCORE/CubeBody/bal_00003_0.00892362464219.npy', '/home/icl/chenxin/onekeyGeonet/Evaluations/MeanAP/Exper_FCIS_DCN/10_30_FCIS_DCN_SCORE/CubeBody/bal_00003_0.00320361927152.npy', '/home/icl/chenxin/onekeyGeonet/Evaluations/MeanAP/Exper_FCIS_DCN/10_30_FCIS_DCN_SCORE/CubeBody/bal_00003_0.0166239980608_box.npy', '/home/icl/chenxin/onekeyGeonet/Evaluations/MeanAP/Exper_FCIS_DCN/10_30_FCIS_DCN_SCORE/CubeBody/bal_00003_0.00380987045355_box.npy', '/home/icl/chenxin/onekeyGeonet/Evaluations/MeanAP/Exper_FCIS_DCN/10_30_FCIS_DCN_SCORE/CubeBody/bal_00003_0.00903633050621.npy', '/home/icl/chenxin/onekeyGeonet/Evaluations/MeanAP/Exper_FCIS_DCN/10_30_FCIS_DCN_SCORE/CubeBody/bal_00003_0.0960717499256_box.npy', '/home/icl/chenxin/onekeyGeonet/Evaluations/MeanAP/Exper_FCIS_DCN/10_30_FCIS_DCN_SCORE/CubeBody/bal_00003_0.0211305413395.npy', '/home/icl/chenxin/onekeyGeonet/Evaluations/MeanAP/Exper_FCIS_DCN/10_30_FCIS_DCN_SCORE/CubeBody/bal_00003_0.00903633050621_box.npy', '/home/icl/chenxin/onekeyGeonet/Evaluations/MeanAP/Exper_FCIS_DCN/10_30_FCIS_DCN_SCORE/CubeBody/bal_00003_0.00320361927152_box.npy', '/home/icl/chenxin/onekeyGeonet/Evaluations/MeanAP/Exper_FCIS_DCN/10_30_FCIS_DCN_SCORE/CubeBody/bal_00003_0.00892362464219_box.npy', '/home/icl/chenxin/onekeyGeonet/Evaluations/MeanAP/Exper_FCIS_DCN/10_30_FCIS_DCN_SCORE/CubeBody/bal_00003_0.0413339734077_box.npy', '/home/icl/chenxin/onekeyGeonet/Evaluations/MeanAP/Exper_FCIS_DCN/10_30_FCIS_DCN_SCORE/CubeBody/bal_00003_0.00118903501425.npy', '/home/icl/chenxin/onekeyGeonet/Evaluations/MeanAP/Exper_FCIS_DCN/10_30_FCIS_DCN_SCORE/CubeBody/bal_00003_0.00361079350114_box.npy', '/home/icl/chenxin/onekeyGeonet/Evaluations/MeanAP/Exper_FCIS_DCN/10_30_FCIS_DCN_SCORE/CubeBody/bal_00003_0.0708474218845_box.npy', '/home/icl/chenxin/onekeyGeonet/Evaluations/MeanAP/Exper_FCIS_DCN/10_30_FCIS_DCN_SCORE/CubeBody/bal_00003_0.00141978857573.npy', '/home/icl/chenxin/onekeyGeonet/Evaluations/MeanAP/Exper_FCIS_DCN/10_30_FCIS_DCN_SCORE/CubeBody/bal_00003_0.0011878090445_box.npy', '/home/icl/chenxin/onekeyGeonet/Evaluations/MeanAP/Exper_FCIS_DCN/10_30_FCIS_DCN_SCORE/CubeBody/bal_00003_0.0202461946756.npy', '/home/icl/chenxin/onekeyGeonet/Evaluations/MeanAP/Exper_FCIS_DCN/10_30_FCIS_DCN_SCORE/CubeBody/bal_00003_0.999640226364.npy', '/home/icl/chenxin/onekeyGeonet/Evaluations/MeanAP/Exper_FCIS_DCN/10_30_FCIS_DCN_SCORE/CubeBody/bal_00003_0.00149855879135.npy', '/home/icl/chenxin/onekeyGeonet/Evaluations/MeanAP/Exper_FCIS_DCN/10_30_FCIS_DCN_SCORE/CubeBody/bal_00003_0.00149855879135_box.npy', '/home/icl/chenxin/onekeyGeonet/Evaluations/MeanAP/Exper_FCIS_DCN/10_30_FCIS_DCN_SCORE/CubeBody/bal_00003_0.00380987045355.npy', '/home/icl/chenxin/onekeyGeonet/Evaluations/MeanAP/Exper_FCIS_DCN/10_30_FCIS_DCN_SCORE/CubeBody/bal_00003_0.00111285434105.npy', '/home/icl/chenxin/onekeyGeonet/Evaluations/MeanAP/Exper_FCIS_DCN/10_30_FCIS_DCN_SCORE/CubeBody/bal_00003_0.0211305413395_box.npy', '/home/icl/chenxin/onekeyGeonet/Evaluations/MeanAP/Exper_FCIS_DCN/10_30_FCIS_DCN_SCORE/CubeBody/bal_00003_0.180889368057_box.npy', '/home/icl/chenxin/onekeyGeonet/Evaluations/MeanAP/Exper_FCIS_DCN/10_30_FCIS_DCN_SCORE/CubeBody/bal_00003_0.00323179387487_box.npy', '/home/icl/chenxin/onekeyGeonet/Evaluations/MeanAP/Exper_FCIS_DCN/10_30_FCIS_DCN_SCORE/CubeBody/bal_00003_0.0941388309002_box.npy', '/home/icl/chenxin/onekeyGeonet/Evaluations/MeanAP/Exper_FCIS_DCN/10_30_FCIS_DCN_SCORE/CubeBody/bal_00003_0.0166239980608.npy', '/home/icl/chenxin/onekeyGeonet/Evaluations/MeanAP/Exper_FCIS_DCN/10_30_FCIS_DCN_SCORE/CubeBody/bal_00003_0.00118903501425_box.npy', '/home/icl/chenxin/onekeyGeonet/Evaluations/MeanAP/Exper_FCIS_DCN/10_30_FCIS_DCN_SCORE/CubeBody/bal_00003_0.00930914469063.npy', '/home/icl/chenxin/onekeyGeonet/Evaluations/MeanAP/Exper_FCIS_DCN/10_30_FCIS_DCN_SCORE/CubeBody/bal_00003_0.0240051969886_box.npy', '/home/icl/chenxin/onekeyGeonet/Evaluations/MeanAP/Exper_FCIS_DCN/10_30_FCIS_DCN_SCORE/CubeBody/bal_00003_0.180889368057.npy', '/home/icl/chenxin/onekeyGeonet/Evaluations/MeanAP/Exper_FCIS_DCN/10_30_FCIS_DCN_SCORE/CubeBody/bal_00003_0.0182110313326_box.npy', '/home/icl/chenxin/onekeyGeonet/Evaluations/MeanAP/Exper_FCIS_DCN/10_30_FCIS_DCN_SCORE/CubeBody/bal_00003_0.0960717499256.npy', '/home/icl/chenxin/onekeyGeonet/Evaluations/MeanAP/Exper_FCIS_DCN/10_30_FCIS_DCN_SCORE/CubeBody/bal_00003_0.0413339734077.npy', '/home/icl/chenxin/onekeyGeonet/Evaluations/MeanAP/Exper_FCIS_DCN/10_30_FCIS_DCN_SCORE/CubeBody/bal_00003_0.0694542527199.npy', '/home/icl/chenxin/onekeyGeonet/Evaluations/MeanAP/Exper_FCIS_DCN/10_30_FCIS_DCN_SCORE/CubeBody/bal_00003_0.0202461946756_box.npy', '/home/icl/chenxin/onekeyGeonet/Evaluations/MeanAP/Exper_FCIS_DCN/10_30_FCIS_DCN_SCORE/CubeBody/bal_00003_0.0708474218845.npy', '/home/icl/chenxin/onekeyGeonet/Evaluations/MeanAP/Exper_FCIS_DCN/10_30_FCIS_DCN_SCORE/CubeBody/bal_00003_0.0240051969886.npy']\n"
     ]
    }
   ],
   "source": [
    "print(matchs)"
   ]
  },
  {
   "cell_type": "code",
   "execution_count": 22,
   "metadata": {},
   "outputs": [],
   "source": [
    "import numpy as np\n",
    "box = np.load(matchs[0])"
   ]
  },
  {
   "cell_type": "code",
   "execution_count": 23,
   "metadata": {
    "scrolled": true
   },
   "outputs": [
    {
     "name": "stdout",
     "output_type": "stream",
     "text": [
      "[[False False False ..., False False False]\n",
      " [False False False ..., False False False]\n",
      " [False False  True ..., False False False]\n",
      " ..., \n",
      " [False False False ...,  True False False]\n",
      " [False False False ..., False False False]\n",
      " [False False False ..., False False False]]\n"
     ]
    }
   ],
   "source": [
    "print box"
   ]
  },
  {
   "cell_type": "code",
   "execution_count": 25,
   "metadata": {},
   "outputs": [],
   "source": [
    "bound = np.round(box.astype(int))"
   ]
  },
  {
   "cell_type": "code",
   "execution_count": 26,
   "metadata": {},
   "outputs": [
    {
     "name": "stdout",
     "output_type": "stream",
     "text": [
      "[[0 0 0 ..., 0 0 0]\n",
      " [0 0 0 ..., 0 0 0]\n",
      " [0 0 1 ..., 0 0 0]\n",
      " ..., \n",
      " [0 0 0 ..., 1 0 0]\n",
      " [0 0 0 ..., 0 0 0]\n",
      " [0 0 0 ..., 0 0 0]]\n"
     ]
    }
   ],
   "source": [
    "print bound"
   ]
  },
  {
   "cell_type": "code",
   "execution_count": null,
   "metadata": {
    "collapsed": true
   },
   "outputs": [],
   "source": []
  }
 ],
 "metadata": {
  "kernelspec": {
   "display_name": "Python 2",
   "language": "python",
   "name": "python2"
  },
  "language_info": {
   "codemirror_mode": {
    "name": "ipython",
    "version": 2
   },
   "file_extension": ".py",
   "mimetype": "text/x-python",
   "name": "python",
   "nbconvert_exporter": "python",
   "pygments_lexer": "ipython2",
   "version": "2.7.12"
  }
 },
 "nbformat": 4,
 "nbformat_minor": 2
}
