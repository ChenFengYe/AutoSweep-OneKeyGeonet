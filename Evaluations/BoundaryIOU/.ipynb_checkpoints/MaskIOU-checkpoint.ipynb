{
 "cells": [
  {
   "cell_type": "code",
   "execution_count": 167,
   "metadata": {
    "collapsed": true
   },
   "outputs": [],
   "source": [
    "import numpy as np\n",
    "import os\n",
    "import cv2\n",
    "import matplotlib.pyplot as plt\n",
    "% matplotlib inline"
   ]
  },
  {
   "cell_type": "code",
   "execution_count": 190,
   "metadata": {
    "collapsed": true
   },
   "outputs": [],
   "source": [
    "classes = {0: 'CubeBody',  1:'CubeFace', 2: 'CylinderBody',3:  'CylinderFace' }"
   ]
  },
  {
   "cell_type": "code",
   "execution_count": 196,
   "metadata": {},
   "outputs": [
    {
     "data": {
      "text/plain": [
       "1"
      ]
     },
     "execution_count": 196,
     "metadata": {},
     "output_type": "execute_result"
    }
   ],
   "source": [
    "classes.keys()[list(classes.values()).index(\"CubeFace\")]"
   ]
  },
  {
   "cell_type": "code",
   "execution_count": 168,
   "metadata": {
    "collapsed": true
   },
   "outputs": [],
   "source": [
    "#folderpath = 'ForEvaluationTest_CurrentGeoNetVal/ForEvaluationTest_CurrentGeoNetVal/'\n",
    "folderpath = 'compbnf/'\n",
    "our_path = folderpath + 'ours/'\n",
    "bnf_path = folderpath + 'bnf/'\n",
    "gt_path = folderpath + 'gt/'\n",
    "\n",
    "our_list = os.listdir(our_path)\n",
    "bnf_list = os.listdir(bnf_path)\n",
    "gt_list = os.listdir(gt_path)"
   ]
  },
  {
   "cell_type": "code",
   "execution_count": 169,
   "metadata": {
    "collapsed": true
   },
   "outputs": [],
   "source": [
    "def mask_overlap(mask11, mask22):\n",
    "###############################################\n",
    "###############################################\n",
    "    \"\"\"\n",
    "    This function calculate region IOU when masks are\n",
    "    inside different boxes\n",
    "    Returns:\n",
    "        intersection over unions of this two masks\n",
    "    \"\"\"\n",
    "    mask1 = mask11.copy()\n",
    "    mask2 = mask22.copy()\n",
    "    \n",
    "    mask1[mask1>=1] = 1\n",
    "    mask2[mask2>=1] = 1\n",
    "    \n",
    "    #plt.subplot(1,2,1) \n",
    "    #plt.imshow(mask1)\n",
    "    #plt.subplot(1,2,2) \n",
    "    #plt.imshow(mask2)\n",
    "    \n",
    "    green = (255,255,255)\n",
    "    #box1 / box2 are the bounding box of mask1 / mask2 \n",
    "    blob1 = np.where(mask1>=1)\n",
    "    box1x1 = min(blob1[1])\n",
    "    box1x2 = max(blob1[1])\n",
    "    box1y1 = min(blob1[0])\n",
    "    box1y2 = max(blob1[0])\n",
    "    \n",
    "    #cv2.rectangle(mask1,(box1x1,box1y1),(box1x2,box1y2),0.5,1)\n",
    "    \n",
    "    #plt.subplot(1,2,1) \n",
    "    #plt.imshow(mask1)\n",
    "    #plt.subplot(1,2,2) \n",
    "    #plt.imshow(mask2)\n",
    "    \n",
    "    #print box1x1,box1x2,box1y1,box1y2\n",
    "    \n",
    "    blob2 = np.where(mask2>=1)\n",
    "    box2x1 = min(blob2[1])\n",
    "    box2x2 = max(blob2[1])\n",
    "    box2y1 = min(blob2[0])\n",
    "    box2y2 = max(blob2[0])\n",
    "    \n",
    "    #cv2.rectangle(mask2,(box2x1,box2y1),(box2x2,box2y2),0.5,1)\n",
    "    \n",
    "    x1 = max(box1x1 , box2x1)\n",
    "    y1 = max(box1y1 , box2y1)\n",
    "    x2 = min(box1x2 , box2x2)\n",
    "    y2 = min(box1y2 , box2y2)\n",
    "\n",
    "    #######################\n",
    "    \n",
    "    if x1 > x2 or y1 > y2:\n",
    "        return 0\n",
    "    w = x2 - x1 + 1\n",
    "    h = y2 - y1 + 1\n",
    "    # get masks in the intersection part\n",
    "    inter_maska = mask1[y1: y1 + h, x1:x1 + w]\n",
    "    inter_maskb = mask2[y1: y1 + h, x1:x1 + w]\n",
    "\n",
    "    #print inter_maska\n",
    "    #print inter_maskb\n",
    "    \n",
    "    #plt.subplot(2,2,1) \n",
    "    #plt.imshow(inter_maska)\n",
    "    #plt.subplot(2,2,2) \n",
    "    #plt.imshow(inter_maskb)    \n",
    "    \n",
    "    assert inter_maska.shape == inter_maskb.shape\n",
    "    inter = np.logical_and(inter_maskb, inter_maska).sum()\n",
    "    #print inter_maskb\n",
    "    #print inter_maska\n",
    "    union = mask1.sum() + mask2.sum() - inter\n",
    "    \n",
    "    if union < 1.0:\n",
    "        return 0\n",
    "    return float(inter) / float(union)\n"
   ]
  },
  {
   "cell_type": "code",
   "execution_count": 176,
   "metadata": {},
   "outputs": [],
   "source": [
    "def ClassifyColor(Red,Green,Blue):\n",
    "    if Blue == 255:\n",
    "        if Green == 0 and Red % 10 == 0 and Red != 0:\n",
    "            return 'CubeBody'\n",
    "        elif Red % 10 == 0 and Green == Red and Red != 0:\n",
    "            return 'CubeFace'\n",
    "    elif Blue == 200:\n",
    "        if Green == 0 and Red % 10 == 0 and Red != 0:\n",
    "            return 'CylinderBody'\n",
    "        elif Red % 10 == 0 and Green == Red and Red != 0:\n",
    "            return 'CylinderFace'\n",
    "    elif Blue == 150:\n",
    "        if Green == 0 and Red % 10 == 0 and Red != 0:\n",
    "            #return 'Handle'\n",
    "            return 'CylinderBody'\n",
    "    elif Red == 53 and Green == 42 and Blue == 135:\n",
    "            return 'Background'\n",
    "    elif Red == 54 and Green == 55 and Blue == 160:\n",
    "            return 'CylinderFace'\n",
    "    elif Red == 54 and Green == 48 and Blue == 147:\n",
    "            return 'CylinderBody'   \n",
    "    elif Red == 0 and Green == 0 and Blue == 0:\n",
    "            return 'Background'\n",
    "    return 'Valid'"
   ]
  },
  {
   "cell_type": "code",
   "execution_count": 181,
   "metadata": {
    "collapsed": true
   },
   "outputs": [],
   "source": [
    "def ParseMask(img,h,w):\n",
    "    part = []\n",
    "    visited_color = []\n",
    "    part_label = []\n",
    "    blue_channel = img[:,:,0]\n",
    "    pixel = blue_channel.nonzero()\n",
    "    for i in range(0,len(pixel[0])):\n",
    "        color = img[pixel[0][i],pixel[1][i]]\n",
    "        color_string =  str(\"%03d\" % color[0]) + str(\"%03d\" % color[1]) +str(\"%03d\" % color[2])\n",
    "        if color_string not in visited_color: \n",
    "            visited_color.append(color_string)\n",
    "            label = ClassifyColor(color[2],color[1],color[0])\n",
    "            #print(label)\n",
    "            if label!= 'Background':\n",
    "                lower = np.array(color, dtype = \"uint8\")#颜色下限  \n",
    "                upper = np.array(color, dtype = \"uint8\")#颜色上限  \n",
    "                part_label.append(label)\n",
    "                #plt.imshow(fcis_img)\n",
    "                mask = cv2.inRange(img, lower, upper) \n",
    "                output = cv2.bitwise_and(img,img,mask=mask)\n",
    "                output = cv2.cvtColor(output, cv2.COLOR_BGR2GRAY)\n",
    "                output[output>=1] = 1\n",
    "\n",
    "                part.append(output)    \n",
    "    \n",
    "    merged_part = []\n",
    "    merged_label = []\n",
    "    marked_list = np.zeros(len(part))\n",
    "    for i in range(0,len(part)):\n",
    "        if marked_list[i]==1:\n",
    "            continue\n",
    "        new_mask = part[i]\n",
    "        new_mask[new_mask>=1] = 1\n",
    "        marked_list[i] = 1\n",
    "        for j in range(0,len(part)):\n",
    "            if part_label[j] == part_label[i] and marked_list[j]==0 and i!=j:\n",
    "                new_mask = np.logical_or(new_mask,part[j])\n",
    "                new_mask[new_mask>=1] = 1\n",
    "                marked_list[j] = 1\n",
    "        merged_part.append(new_mask)\n",
    "        merged_label.append(part_label[i])\n",
    "    return merged_part,merged_label"
   ]
  },
  {
   "cell_type": "code",
   "execution_count": 265,
   "metadata": {},
   "outputs": [
    {
     "data": {
      "text/plain": [
       "<matplotlib.image.AxesImage at 0x7f3b14b3e990>"
      ]
     },
     "execution_count": 265,
     "metadata": {},
     "output_type": "execute_result"
    },
    {
     "data": {
      "image/png": "[encoded data removed]",
      "text/plain": [
       "<matplotlib.figure.Figure at 0x7f3b150d3510>"
      ]
     },
     "metadata": {},
     "output_type": "display_data"
    }
   ],
   "source": [
    "x = np.zeros([h,w], np.int8)\n",
    "plt.imshow(x)"
   ]
  },
  {
   "cell_type": "code",
   "execution_count": 278,
   "metadata": {
    "collapsed": true
   },
   "outputs": [],
   "source": [
    "def SetMask(img,h,w):\n",
    "    marked_img = np.zeros([h,w], np.int8)\n",
    "    for i in range(0,h):\n",
    "        for j in range(0,w):\n",
    "            color = img[i,j]\n",
    "            label = ClassifyColor(color[2],color[1],color[0])\n",
    "            if label != 'Background':\n",
    "                cls = classes.keys()[list(classes.values()).index(label)]\n",
    "                marked_img[i,j] = cls+1\n",
    "    #plt.imshow(marked_img)    \n",
    "    return marked_img"
   ]
  },
  {
   "cell_type": "code",
   "execution_count": 218,
   "metadata": {},
   "outputs": [],
   "source": [
    "def GetOverLap(part,gt_part,part_label,gt_part_label):\n",
    "    ov_cls = np.zeros(len(classes))\n",
    "    ov_cls_counter =np.zeros(len(classes))\n",
    "    \n",
    "    #ov_areas = np.zeros(len(part))    \n",
    "    #match_gt_id = np.zeros(len(part))\n",
    "    \n",
    "    for i in range(0,len(part)):\n",
    "        cur_overlap = -1000\n",
    "        cur_overlap_ind = -1\n",
    "        for j in range(0,len(gt_part)):\n",
    "            if part_label[i]== gt_part_label[j]:\n",
    "                ov = mask_overlap(gt_part[j], part[i])\n",
    "                if ov > cur_overlap:\n",
    "                    cur_overlap = ov\n",
    "                    cur_overlap_ind = j                    \n",
    "        if cur_overlap == -1000:\n",
    "            print('overlap==-1000')\n",
    "            cur_overlap = 0\n",
    "        \n",
    "        cls = classes.keys()[list(classes.values()).index(part_label[i])]\n",
    "        ov_cls[cls] = ov_cls[cls]+cur_overlap\n",
    "        ov_cls_counter[cls] = ov_cls_counter[cls]  +1\n",
    "        #ov_areas[i]=cur_overlap\n",
    "        #match_gt_id[i] = cur_overlap_ind\n",
    "    mean_ov = np.zeros(len(classes))\n",
    "    for k in range(0,len(classes)):\n",
    "        if ov_cls_counter[k]!=0:\n",
    "            mean_ov[k] = ov_cls[k]/ov_cls_counter[k]\n",
    "        \n",
    "    return mean_ov"
   ]
  },
  {
   "cell_type": "code",
   "execution_count": 205,
   "metadata": {},
   "outputs": [
    {
     "name": "stdout",
     "output_type": "stream",
     "text": [
      "[ 0.   1.5  nan]\n"
     ]
    },
    {
     "name": "stderr",
     "output_type": "stream",
     "text": [
      "/usr/local/lib/python2.7/dist-packages/ipykernel_launcher.py:9: RuntimeWarning: invalid value encountered in divide\n",
      "  if __name__ == '__main__':\n"
     ]
    }
   ],
   "source": [
    "a = np.zeros(3)\n",
    "a[0] = 0\n",
    "a[1] = 3\n",
    "a[2] = 0\n",
    "b=np.zeros(3)\n",
    "b[0] = 1\n",
    "b[1] = 2\n",
    "b[2] = 0\n",
    "print(a/b)"
   ]
  },
  {
   "cell_type": "code",
   "execution_count": 275,
   "metadata": {
    "collapsed": true
   },
   "outputs": [],
   "source": [
    "def mask_level_acc(img,gtimg):\n",
    "    correctpix = np.zeros(len(classes))\n",
    "    allpix = np.zeros(len(classes))\n",
    "    h = img.shape[0]\n",
    "    w = img.shape[1]\n",
    "    for i in range(0,h):\n",
    "        for j in range(0,w):\n",
    "            pixel = img[i,j]-1\n",
    "            gt = gtimg[i,j]-1\n",
    "            allpix[pixel] = allpix[pixel] + 1\n",
    "            if pixel == gt:\n",
    "                correctpix[pixel] = correctpix[pixel] +1\n",
    "    \n",
    "    #mean_acc = np.zeros(len(classes))\n",
    "    #for k in range(0,len(classes)):\n",
    "     #   if allpix[k]!=0:\n",
    "      #      mean_acc[k] = correctpix[k]/allpix[k]  \n",
    "    return correctpix,allpix"
   ]
  },
  {
   "cell_type": "code",
   "execution_count": 285,
   "metadata": {},
   "outputs": [
    {
     "name": "stdout",
     "output_type": "stream",
     "text": [
      "1 bow_00098_bnf.png\n",
      "2 vas_00093_bnf.png\n",
      "3 cylinder_02334_bnf.png\n",
      "4 cylinder_01354_bnf.png\n",
      "5 cha_00078_bnf.png\n",
      "6 cylinder_02452_bnf.png\n",
      "7 bow_00031_bnf.png\n",
      "8 cylinder_00821_bnf.png\n",
      "9 cylinder_01204_bnf.png\n",
      "10 lov_00255_bnf.png\n",
      "11 jui_00079_bnf.png\n",
      "12 vas_00224_bnf.png\n",
      "13 vas_00257_bnf.png\n",
      "14 cylinder_01984_bnf.png\n",
      "15 cup_00531_bnf.png\n",
      "16 jui_00093_bnf.png\n",
      "17 vas_00164_bnf.png\n",
      "18 vas_00062_bnf.png\n",
      "19 jui_00528_bnf.png\n",
      "20 cylinder_02692_bnf.png\n",
      "21 jui_00283_bnf.png\n",
      "22 cylinder_02539_bnf.png\n",
      "23 cylinder_02389_bnf.png\n"
     ]
    },
    {
     "ename": "KeyboardInterrupt",
     "evalue": "",
     "output_type": "error",
     "traceback": [
      "\u001b[0;31m---------------------------------------------------------------------------\u001b[0m",
      "\u001b[0;31mKeyboardInterrupt\u001b[0m                         Traceback (most recent call last)",
      "\u001b[0;32m<ipython-input-285-dcd5a2e614d6>\u001b[0m in \u001b[0;36m<module>\u001b[0;34m()\u001b[0m\n\u001b[1;32m     29\u001b[0m     \u001b[0mour_img\u001b[0m \u001b[0;34m=\u001b[0m \u001b[0mSetMask\u001b[0m\u001b[0;34m(\u001b[0m\u001b[0mour_img\u001b[0m\u001b[0;34m,\u001b[0m\u001b[0mh\u001b[0m\u001b[0;34m,\u001b[0m\u001b[0mw\u001b[0m\u001b[0;34m)\u001b[0m\u001b[0;34m\u001b[0m\u001b[0m\n\u001b[1;32m     30\u001b[0m     \u001b[0mbnf_img\u001b[0m \u001b[0;34m=\u001b[0m \u001b[0mSetMask\u001b[0m\u001b[0;34m(\u001b[0m\u001b[0mbnf_img\u001b[0m\u001b[0;34m,\u001b[0m\u001b[0mh\u001b[0m\u001b[0;34m,\u001b[0m\u001b[0mw\u001b[0m\u001b[0;34m)\u001b[0m\u001b[0;34m\u001b[0m\u001b[0m\n\u001b[0;32m---> 31\u001b[0;31m     \u001b[0mgt_img\u001b[0m \u001b[0;34m=\u001b[0m \u001b[0mSetMask\u001b[0m\u001b[0;34m(\u001b[0m\u001b[0mgt_img\u001b[0m\u001b[0;34m,\u001b[0m\u001b[0mh\u001b[0m\u001b[0;34m,\u001b[0m\u001b[0mw\u001b[0m\u001b[0;34m)\u001b[0m\u001b[0;34m\u001b[0m\u001b[0m\n\u001b[0m\u001b[1;32m     32\u001b[0m \u001b[0;34m\u001b[0m\u001b[0m\n\u001b[1;32m     33\u001b[0m     \u001b[0macc\u001b[0m \u001b[0;34m=\u001b[0m \u001b[0mmask_level_acc\u001b[0m\u001b[0;34m(\u001b[0m\u001b[0mour_img\u001b[0m\u001b[0;34m,\u001b[0m\u001b[0mgt_img\u001b[0m\u001b[0;34m)\u001b[0m\u001b[0;34m\u001b[0m\u001b[0m\n",
      "\u001b[0;32m<ipython-input-278-0983f09f1340>\u001b[0m in \u001b[0;36mSetMask\u001b[0;34m(img, h, w)\u001b[0m\n\u001b[1;32m      4\u001b[0m         \u001b[0;32mfor\u001b[0m \u001b[0mj\u001b[0m \u001b[0;32min\u001b[0m \u001b[0mrange\u001b[0m\u001b[0;34m(\u001b[0m\u001b[0;36m0\u001b[0m\u001b[0;34m,\u001b[0m\u001b[0mw\u001b[0m\u001b[0;34m)\u001b[0m\u001b[0;34m:\u001b[0m\u001b[0;34m\u001b[0m\u001b[0m\n\u001b[1;32m      5\u001b[0m             \u001b[0mcolor\u001b[0m \u001b[0;34m=\u001b[0m \u001b[0mimg\u001b[0m\u001b[0;34m[\u001b[0m\u001b[0mi\u001b[0m\u001b[0;34m,\u001b[0m\u001b[0mj\u001b[0m\u001b[0;34m]\u001b[0m\u001b[0;34m\u001b[0m\u001b[0m\n\u001b[0;32m----> 6\u001b[0;31m             \u001b[0mlabel\u001b[0m \u001b[0;34m=\u001b[0m \u001b[0mClassifyColor\u001b[0m\u001b[0;34m(\u001b[0m\u001b[0mcolor\u001b[0m\u001b[0;34m[\u001b[0m\u001b[0;36m2\u001b[0m\u001b[0;34m]\u001b[0m\u001b[0;34m,\u001b[0m\u001b[0mcolor\u001b[0m\u001b[0;34m[\u001b[0m\u001b[0;36m1\u001b[0m\u001b[0;34m]\u001b[0m\u001b[0;34m,\u001b[0m\u001b[0mcolor\u001b[0m\u001b[0;34m[\u001b[0m\u001b[0;36m0\u001b[0m\u001b[0;34m]\u001b[0m\u001b[0;34m)\u001b[0m\u001b[0;34m\u001b[0m\u001b[0m\n\u001b[0m\u001b[1;32m      7\u001b[0m             \u001b[0;32mif\u001b[0m \u001b[0mlabel\u001b[0m \u001b[0;34m!=\u001b[0m \u001b[0;34m'Background'\u001b[0m\u001b[0;34m:\u001b[0m\u001b[0;34m\u001b[0m\u001b[0m\n\u001b[1;32m      8\u001b[0m                 \u001b[0mcls\u001b[0m \u001b[0;34m=\u001b[0m \u001b[0mclasses\u001b[0m\u001b[0;34m.\u001b[0m\u001b[0mkeys\u001b[0m\u001b[0;34m(\u001b[0m\u001b[0;34m)\u001b[0m\u001b[0;34m[\u001b[0m\u001b[0mlist\u001b[0m\u001b[0;34m(\u001b[0m\u001b[0mclasses\u001b[0m\u001b[0;34m.\u001b[0m\u001b[0mvalues\u001b[0m\u001b[0;34m(\u001b[0m\u001b[0;34m)\u001b[0m\u001b[0;34m)\u001b[0m\u001b[0;34m.\u001b[0m\u001b[0mindex\u001b[0m\u001b[0;34m(\u001b[0m\u001b[0mlabel\u001b[0m\u001b[0;34m)\u001b[0m\u001b[0;34m]\u001b[0m\u001b[0;34m\u001b[0m\u001b[0m\n",
      "\u001b[0;32m<ipython-input-176-e5eee7acb3c5>\u001b[0m in \u001b[0;36mClassifyColor\u001b[0;34m(Red, Green, Blue)\u001b[0m\n\u001b[1;32m     20\u001b[0m     \u001b[0;32melif\u001b[0m \u001b[0mRed\u001b[0m \u001b[0;34m==\u001b[0m \u001b[0;36m54\u001b[0m \u001b[0;32mand\u001b[0m \u001b[0mGreen\u001b[0m \u001b[0;34m==\u001b[0m \u001b[0;36m48\u001b[0m \u001b[0;32mand\u001b[0m \u001b[0mBlue\u001b[0m \u001b[0;34m==\u001b[0m \u001b[0;36m147\u001b[0m\u001b[0;34m:\u001b[0m\u001b[0;34m\u001b[0m\u001b[0m\n\u001b[1;32m     21\u001b[0m             \u001b[0;32mreturn\u001b[0m \u001b[0;34m'CylinderBody'\u001b[0m\u001b[0;34m\u001b[0m\u001b[0m\n\u001b[0;32m---> 22\u001b[0;31m     \u001b[0;32melif\u001b[0m \u001b[0mRed\u001b[0m \u001b[0;34m==\u001b[0m \u001b[0;36m0\u001b[0m \u001b[0;32mand\u001b[0m \u001b[0mGreen\u001b[0m \u001b[0;34m==\u001b[0m \u001b[0;36m0\u001b[0m \u001b[0;32mand\u001b[0m \u001b[0mBlue\u001b[0m \u001b[0;34m==\u001b[0m \u001b[0;36m0\u001b[0m\u001b[0;34m:\u001b[0m\u001b[0;34m\u001b[0m\u001b[0m\n\u001b[0m\u001b[1;32m     23\u001b[0m             \u001b[0;32mreturn\u001b[0m \u001b[0;34m'Background'\u001b[0m\u001b[0;34m\u001b[0m\u001b[0m\n\u001b[1;32m     24\u001b[0m     \u001b[0;32mreturn\u001b[0m \u001b[0;34m'Valid'\u001b[0m\u001b[0;34m\u001b[0m\u001b[0m\n",
      "\u001b[0;31mKeyboardInterrupt\u001b[0m: "
     ]
    }
   ],
   "source": [
    "idx= 0\n",
    "our_part_all = []\n",
    "gt_part_all = []\n",
    "bnf_part_all = []\n",
    "\n",
    "our_part_label_all = []\n",
    "gt_part_label_all = []\n",
    "bnf_part_label_all = []\n",
    "\n",
    "our_acc_all = []\n",
    "bnf_acc_all = []\n",
    "\n",
    "for imgname in bnf_list:\n",
    "    realname = imgname[:imgname.index('_bnf')]   \n",
    "    our_img = cv2.imread(our_path+realname+'_mask.png', 1)\n",
    "    gt_img = cv2.imread(gt_path+realname+'.png', 1)\n",
    "    bnf_img =  cv2.imread(bnf_path+realname+'_bnf.png', 1)\n",
    "    \n",
    "    h = gt_img.shape[0]\n",
    "    w = gt_img.shape[1]\n",
    "    \n",
    "    if bnf_img is None:\n",
    "        print(\"no bnf output\")\n",
    "        bnf_img =  np.zeros(gt_img.shape,np.uint8)\n",
    "        \n",
    "    idx = idx+1\n",
    "    print(str(idx) + \" \" + imgname) \n",
    "    \n",
    "    our_img = SetMask(our_img,h,w)\n",
    "    bnf_img = SetMask(bnf_img,h,w)\n",
    "    gt_img = SetMask(gt_img,h,w)\n",
    "    \n",
    "    acc = mask_level_acc(our_img,gt_img)\n",
    "    acc_bnf = mask_level_acc(bnf_img,gt_img)\n",
    "    \n",
    "    our_acc_all.append(acc)\n",
    "    bnf_acc_all.append(acc_bnf)\n",
    "    \n",
    "    #our_part,our_part_label = ParseMask(our_img,h,w)\n",
    "    #gt_part,gt_part_label = ParseMask(gt_img,h,w)\n",
    "    #bnf_part,bnf_part_label = ParseMask(bnf_img,h,w)\n",
    "    \n",
    "    #our_part_all.append(our_part)\n",
    "    #gt_part_all.append(gt_part)\n",
    "    #bnf_part_all.append(bnf_part)    \n",
    "    \n",
    "    #our_part_label_all.append(our_part_label)\n",
    "    #gt_part_label_all.append(gt_part_label)\n",
    "    #bnf_part_label_all.append(bnf_part_label)    "
   ]
  },
  {
   "cell_type": "code",
   "execution_count": null,
   "metadata": {
    "collapsed": true
   },
   "outputs": [],
   "source": []
  },
  {
   "cell_type": "code",
   "execution_count": 219,
   "metadata": {},
   "outputs": [
    {
     "name": "stdout",
     "output_type": "stream",
     "text": [
      "0\n",
      "[ 0.          0.          0.90311688  0.89429713]\n",
      "[ 0.          0.          0.85963618  0.80790085]\n",
      "1\n",
      "[ 0.          0.          0.9302037   0.91635741]\n",
      "[ 0.          0.          0.91686912  0.86988636]\n",
      "2\n",
      "overlap==-1000\n",
      "[ 0.          0.          0.96498597  0.80242723]\n",
      "[ 0.          0.          0.96930574  0.8015914 ]\n",
      "3\n",
      "[ 0.          0.          0.93473992  0.87310059]\n",
      "[ 0.          0.          0.91904787  0.77108249]\n",
      "4\n",
      "[ 0.          0.          0.95924744  0.80719483]\n",
      "[ 0.          0.          0.95087465  0.58269618]\n"
     ]
    }
   ],
   "source": [
    "our_ov_all = []\n",
    "bnf_ov_all = []\n",
    "for x in range(0,len(our_part_all)):\n",
    "    print(x)\n",
    "    our_ov = GetOverLap(our_part_all[x],gt_part_all[x],our_part_label_all[x],gt_part_label_all[x])\n",
    "    bnf_ov = GetOverLap(bnf_part_all[x],gt_part_all[x],bnf_part_label_all[x],gt_part_label_all[x])\n",
    "    \n",
    "    print(our_ov)\n",
    "    print(bnf_ov)\n",
    "    \n",
    "    our_ov_all.append(our_ov)\n",
    "    bnf_ov_all.append(bnf_ov)"
   ]
  },
  {
   "cell_type": "code",
   "execution_count": 244,
   "metadata": {},
   "outputs": [
    {
     "name": "stdout",
     "output_type": "stream",
     "text": [
      "[ 0.          0.          0.93845878  0.85867544]\n",
      "[ 0.          0.          0.92314671  0.76663146]\n",
      "[[ 0.          0.          0.90311688  0.89429713]\n",
      " [ 0.          0.          0.9302037   0.91635741]\n",
      " [ 0.          0.          0.96498597  0.80242723]\n",
      " [ 0.          0.          0.93473992  0.87310059]\n",
      " [ 0.          0.          0.95924744  0.80719483]]\n",
      "[[ 0.          0.          0.85963618  0.80790085]\n",
      " [ 0.          0.          0.91686912  0.86988636]\n",
      " [ 0.          0.          0.96930574  0.8015914 ]\n",
      " [ 0.          0.          0.91904787  0.77108249]\n",
      " [ 0.          0.          0.95087465  0.58269618]]\n"
     ]
    }
   ],
   "source": [
    "#our_ov_all.mean()\n",
    "our_ov_all_np = np.array(our_ov_all)\n",
    "bnf_ov_all_np = np.array(bnf_ov_all)\n",
    "\n",
    "print(our_ov_all_np.mean(0))\n",
    "print(bnf_ov_all_np.mean(0))\n",
    "\n",
    "print(our_ov_all_np)\n",
    "print(bnf_ov_all_np)\n",
    "\n",
    "print(our_ov_all_np[0:5,2:5].mean())\n",
    "print(bnf_ov_all_np[0:5,2:5].mean())\n"
   ]
  },
  {
   "cell_type": "code",
   "execution_count": null,
   "metadata": {},
   "outputs": [],
   "source": [
    "our_acc_all = np.array(our_acc_all)\n",
    "bnf_acc_all = np.array(bnf_acc_all)\n",
    "print(our_acc_all.mean(0))\n",
    "print(bnf_acc_all.mean(0))\n",
    "\n",
    "print(our_acc_all[0:5,2:5].mean())\n",
    "print(bnf_acc_all[0:5,2:5].mean())"
   ]
  },
  {
   "cell_type": "code",
   "execution_count": null,
   "metadata": {
    "collapsed": true
   },
   "outputs": [],
   "source": []
  }
 ],
 "metadata": {
  "kernelspec": {
   "display_name": "Python 2",
   "language": "python",
   "name": "python2"
  },
  "language_info": {
   "codemirror_mode": {
    "name": "ipython",
    "version": 2
   },
   "file_extension": ".py",
   "mimetype": "text/x-python",
   "name": "python",
   "nbconvert_exporter": "python",
   "pygments_lexer": "ipython2",
   "version": "2.7.12"
  }
 },
 "nbformat": 4,
 "nbformat_minor": 2
}
