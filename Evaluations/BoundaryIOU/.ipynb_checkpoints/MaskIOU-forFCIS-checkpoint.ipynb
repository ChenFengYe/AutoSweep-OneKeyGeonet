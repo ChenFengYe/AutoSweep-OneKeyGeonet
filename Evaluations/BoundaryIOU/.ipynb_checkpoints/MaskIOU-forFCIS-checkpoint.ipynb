{
 "cells": [
  {
   "cell_type": "code",
   "execution_count": 34,
   "metadata": {
    "collapsed": true
   },
   "outputs": [],
   "source": [
    "import numpy as np\n",
    "import os\n",
    "import cv2\n",
    "import matplotlib.pyplot as plt\n",
    "% matplotlib inline\n",
    "import pickle"
   ]
  },
  {
   "cell_type": "code",
   "execution_count": 2,
   "metadata": {
    "collapsed": true
   },
   "outputs": [],
   "source": [
    "classes = {0: 'CubeBody',  1:'CubeFace', 2: 'CylinderBody',3:  'CylinderFace' }"
   ]
  },
  {
   "cell_type": "code",
   "execution_count": 3,
   "metadata": {},
   "outputs": [
    {
     "data": {
      "text/plain": [
       "1"
      ]
     },
     "execution_count": 3,
     "metadata": {},
     "output_type": "execute_result"
    }
   ],
   "source": [
    "classes.keys()[list(classes.values()).index(\"CubeFace\")]"
   ]
  },
  {
   "cell_type": "code",
   "execution_count": 16,
   "metadata": {
    "collapsed": true
   },
   "outputs": [],
   "source": [
    "folderpath = 'compbnf/'\n",
    "our_path = '/home/icl/chenxin/onekeyGeonet/Evaluations/MeanAP/Exper_FCIS_DCN/10_30_FCIS_DCN/'\n",
    "bnf_path = folderpath + 'new_bnf/'\n",
    "gt_path = '/home/icl/chenxin/onekeyGeonet/Evaluations/MeanAP/Exper_FCIS_DCN/gt/'\n",
    "our_list = os.listdir(our_path)\n",
    "bnf_list = os.listdir(bnf_path)\n",
    "gt_list = os.listdir(gt_path)"
   ]
  },
  {
   "cell_type": "code",
   "execution_count": 17,
   "metadata": {
    "collapsed": true
   },
   "outputs": [],
   "source": [
    "def mask_overlap_inun(mask11, mask22):\n",
    "###############################################\n",
    "###############################################\n",
    "    \"\"\"\n",
    "    This function calculate region IOU when masks are\n",
    "    inside different boxes\n",
    "    Returns:\n",
    "        intersection over unions of this two masks\n",
    "    \"\"\"\n",
    "    mask1 = mask11.copy()\n",
    "    mask2 = mask22.copy()\n",
    "    \n",
    "    mask1[mask1>=1] = 1\n",
    "    mask2[mask2>=1] = 1\n",
    "    \n",
    "    #plt.subplot(1,2,1) \n",
    "    #plt.imshow(mask1)\n",
    "    #plt.subplot(1,2,2) \n",
    "    #plt.imshow(mask2)\n",
    "    \n",
    "    green = (255,255,255)\n",
    "    #box1 / box2 are the bounding box of mask1 / mask2 \n",
    "    blob1 = np.where(mask1>=1)\n",
    "    box1x1 = min(blob1[1])\n",
    "    box1x2 = max(blob1[1])\n",
    "    box1y1 = min(blob1[0])\n",
    "    box1y2 = max(blob1[0])\n",
    "    \n",
    "    #cv2.rectangle(mask1,(box1x1,box1y1),(box1x2,box1y2),0.5,1)\n",
    "    \n",
    "    #plt.subplot(1,2,1) \n",
    "    #plt.imshow(mask1)\n",
    "    #plt.subplot(1,2,2) \n",
    "    #plt.imshow(mask2)\n",
    "    \n",
    "    #print box1x1,box1x2,box1y1,box1y2\n",
    "    \n",
    "    blob2 = np.where(mask2>=1)\n",
    "    box2x1 = min(blob2[1])\n",
    "    box2x2 = max(blob2[1])\n",
    "    box2y1 = min(blob2[0])\n",
    "    box2y2 = max(blob2[0])\n",
    "    \n",
    "    #cv2.rectangle(mask2,(box2x1,box2y1),(box2x2,box2y2),0.5,1)\n",
    "    \n",
    "    x1 = max(box1x1 , box2x1)\n",
    "    y1 = max(box1y1 , box2y1)\n",
    "    x2 = min(box1x2 , box2x2)\n",
    "    y2 = min(box1y2 , box2y2)\n",
    "\n",
    "    #######################\n",
    "    \n",
    "    if x1 > x2 or y1 > y2:\n",
    "        return 0\n",
    "    w = x2 - x1 + 1\n",
    "    h = y2 - y1 + 1\n",
    "    # get masks in the intersection part\n",
    "    inter_maska = mask1[y1: y1 + h, x1:x1 + w]\n",
    "    inter_maskb = mask2[y1: y1 + h, x1:x1 + w]\n",
    "\n",
    "    #print inter_maska\n",
    "    #print inter_maskb\n",
    "    \n",
    "    #plt.subplot(2,2,1) \n",
    "    #plt.imshow(inter_maska)\n",
    "    #plt.subplot(2,2,2) \n",
    "    #plt.imshow(inter_maskb)    \n",
    "    \n",
    "    assert inter_maska.shape == inter_maskb.shape\n",
    "    inter = np.logical_and(inter_maskb, inter_maska).sum()\n",
    "    #print inter_maskb\n",
    "    #print inter_maska\n",
    "    union = mask1.sum() + mask2.sum() - inter\n",
    "    \n",
    "    if union < 1.0:\n",
    "        return 0\n",
    "    return float(inter), float(union)"
   ]
  },
  {
   "cell_type": "code",
   "execution_count": 18,
   "metadata": {
    "collapsed": true
   },
   "outputs": [],
   "source": [
    "def mask_overlap(mask11, mask22):\n",
    "    inter,union = mask_overlap_inun(mask11,mask22)\n",
    "    return float(inter) / float(union)\n"
   ]
  },
  {
   "cell_type": "code",
   "execution_count": 19,
   "metadata": {
    "collapsed": true
   },
   "outputs": [],
   "source": [
    "def ClassifyColor(Red,Green,Blue):\n",
    "    if Blue == 255:\n",
    "        if Green == 0 and Red % 10 == 0 and Red != 0:\n",
    "            return 'CubeBody'\n",
    "        elif Red % 10 == 0 and Green == Red and Red != 0:\n",
    "            return 'CubeFace'\n",
    "    elif Blue == 200:\n",
    "        if Green == 0 and Red % 10 == 0 and Red != 0:\n",
    "            return 'CylinderBody'\n",
    "        elif Red % 10 == 0 and Green == Red and Red != 0:\n",
    "            return 'CylinderFace'\n",
    "    elif Blue == 150:\n",
    "        if Green == 0 and Red % 10 == 0 and Red != 0:\n",
    "            #return 'Handle'\n",
    "            return 'CylinderBody'\n",
    "    elif Red == 0 and Green == 0 and Blue == 0:\n",
    "            return 'Background'\n",
    "    return 'Invalid'"
   ]
  },
  {
   "cell_type": "code",
   "execution_count": 20,
   "metadata": {
    "collapsed": true
   },
   "outputs": [],
   "source": [
    "def ParseMask(img,h,w):\n",
    "    part = []\n",
    "    visited_color = []\n",
    "    part_label = []\n",
    "    blue_channel = img[:,:,0]\n",
    "    pixel = blue_channel.nonzero()\n",
    "    for i in range(0,len(pixel[0])):\n",
    "        color = img[pixel[0][i],pixel[1][i]]\n",
    "        color_string =  str(\"%03d\" % color[0]) + str(\"%03d\" % color[1]) +str(\"%03d\" % color[2])\n",
    "        if color_string not in visited_color: \n",
    "            visited_color.append(color_string)\n",
    "            label = ClassifyColor(color[2],color[1],color[0])\n",
    "            #print(label)\n",
    "            if label!= 'Background':\n",
    "                lower = np.array(color, dtype = \"uint8\")#颜色下限  \n",
    "                upper = np.array(color, dtype = \"uint8\")#颜色上限  \n",
    "                part_label.append(label)\n",
    "                #plt.imshow(fcis_img)\n",
    "                mask = cv2.inRange(img, lower, upper) \n",
    "                output = cv2.bitwise_and(img,img,mask=mask)\n",
    "                output = cv2.cvtColor(output, cv2.COLOR_BGR2GRAY)\n",
    "                output[output>=1] = 1\n",
    "\n",
    "                part.append(output)    \n",
    "    \n",
    "    merged_part = []\n",
    "    merged_label = []\n",
    "    marked_list = np.zeros(len(part))\n",
    "    for i in range(0,len(part)):\n",
    "        if marked_list[i]==1:\n",
    "            continue\n",
    "        new_mask = part[i]\n",
    "        new_mask[new_mask>=1] = 1\n",
    "        marked_list[i] = 1\n",
    "        for j in range(0,len(part)):\n",
    "            if part_label[j] == part_label[i] and marked_list[j]==0 and i!=j:\n",
    "                new_mask = np.logical_or(new_mask,part[j])\n",
    "                new_mask[new_mask>=1] = 1\n",
    "                marked_list[j] = 1\n",
    "        merged_part.append(new_mask)\n",
    "        merged_label.append(part_label[i])\n",
    "    return merged_part,merged_label"
   ]
  },
  {
   "cell_type": "code",
   "execution_count": 21,
   "metadata": {
    "collapsed": true
   },
   "outputs": [],
   "source": [
    "def SetMask(img,h,w):\n",
    "    marked_img = np.zeros([h,w], np.int8)\n",
    "    for i in range(0,h):\n",
    "        for j in range(0,w):\n",
    "            color = img[i,j]\n",
    "            label = ClassifyColor(color[2],color[1],color[0])\n",
    "            if label != 'Background':\n",
    "                cls = classes.keys()[list(classes.values()).index(label)]\n",
    "                marked_img[i,j] = cls+1\n",
    "    #plt.imshow(marked_img)    \n",
    "    return marked_img"
   ]
  },
  {
   "cell_type": "code",
   "execution_count": 22,
   "metadata": {
    "collapsed": true
   },
   "outputs": [],
   "source": [
    "def GetOverLap_inun(part,gt_part,part_label,gt_part_label):\n",
    "    ov_cls_inter = np.zeros(len(classes))\n",
    "    ov_cls_union = np.zeros(len(classes))\n",
    "    \n",
    "    for i in range(0,len(part)):\n",
    "        cur_overlap = -1000\n",
    "        cur_overlap_ind = -1\n",
    "        cur_inter = 0\n",
    "        cur_union = 0\n",
    "        for j in range(0,len(gt_part)):\n",
    "            if part_label[i]== gt_part_label[j]:\n",
    "                inter,union = mask_overlap_inun(gt_part[j], part[i])\n",
    "                ov = inter / union\n",
    "                if ov > cur_overlap:\n",
    "                    cur_overlap = ov\n",
    "                    cur_overlap_ind = j       \n",
    "                    cur_inter = inter\n",
    "                    cur_union = union\n",
    "        if cur_overlap == -1000:\n",
    "            print('overlap==-1000')\n",
    "            cur_overlap = 0\n",
    "        \n",
    "        cls = classes.keys()[list(classes.values()).index(part_label[i])]\n",
    "        \n",
    "        ov_cls_inter[cls] =  ov_cls_inter[cls] + cur_inter\n",
    "        ov_cls_union[cls] = ov_cls_union[cls]+cur_union\n",
    "        \n",
    "    return ov_cls_inter,ov_cls_union"
   ]
  },
  {
   "cell_type": "code",
   "execution_count": 23,
   "metadata": {
    "collapsed": true
   },
   "outputs": [],
   "source": [
    "def GetOverLap(part,gt_part,part_label,gt_part_label):\n",
    "    ov_cls = np.zeros(len(classes))\n",
    "    ov_cls_counter =np.zeros(len(classes))\n",
    "    \n",
    "    #ov_areas = np.zeros(len(part))    \n",
    "    #match_gt_id = np.zeros(len(part))\n",
    "    \n",
    "    for i in range(0,len(part)):\n",
    "        cur_overlap = -1000\n",
    "        cur_overlap_ind = -1\n",
    "        for j in range(0,len(gt_part)):\n",
    "            if part_label[i]== gt_part_label[j]:\n",
    "                ov = mask_overlap(gt_part[j], part[i])\n",
    "                if ov > cur_overlap:\n",
    "                    cur_overlap = ov\n",
    "                    cur_overlap_ind = j                    \n",
    "        if cur_overlap == -1000:\n",
    "            print('overlap==-1000')\n",
    "            cur_overlap = 0\n",
    "        \n",
    "        cls = classes.keys()[list(classes.values()).index(part_label[i])]\n",
    "        ov_cls[cls] = ov_cls[cls]+cur_overlap\n",
    "        ov_cls_counter[cls] = ov_cls_counter[cls]  +1\n",
    "        #ov_areas[i]=cur_overlap\n",
    "        #match_gt_id[i] = cur_overlap_ind\n",
    "    mean_ov = np.zeros(len(classes))\n",
    "    for k in range(0,len(classes)):\n",
    "        if ov_cls_counter[k]!=0:\n",
    "            mean_ov[k] = ov_cls[k]/ov_cls_counter[k]\n",
    "        \n",
    "    return mean_ov"
   ]
  },
  {
   "cell_type": "code",
   "execution_count": 24,
   "metadata": {
    "collapsed": true
   },
   "outputs": [],
   "source": [
    "def mask_level_acc(img,gtimg):\n",
    "    correctpix = np.zeros(len(classes))\n",
    "    allpix = np.zeros(len(classes))\n",
    "    h = img.shape[0]\n",
    "    w = img.shape[1]\n",
    "    for i in range(0,h):\n",
    "        for j in range(0,w):\n",
    "            pixel = img[i,j]-1\n",
    "            gt = gtimg[i,j]-1\n",
    "            if pixel != -1:\n",
    "                if pixel == gt:\n",
    "                    correctpix[pixel] = correctpix[pixel] +1\n",
    "    \n",
    "    #mean_acc = np.zeros(len(classes))\n",
    "    #for k in range(0,len(classes)):\n",
    "     #   if allpix[k]!=0:\n",
    "      #      mean_acc[k] = correctpix[k]/allpix[k]  \n",
    "    return correctpix,allpix"
   ]
  },
  {
   "cell_type": "code",
   "execution_count": 30,
   "metadata": {
    "collapsed": true
   },
   "outputs": [],
   "source": [
    "def buildPart(image_names,data_path):\n",
    "    # 2. Get predict pickle file for this class\n",
    "    fcis_part_all = []\n",
    "    fcis_part_label_all = []\n",
    "    fcis_part_score_all = []\n",
    "    \n",
    "    boxes_pkl_all = [[],[],[],[]]\n",
    "    masks_pkl_all = [[],[],[],[]]\n",
    "    \n",
    "    for j in range(0,len(classes)):    \n",
    "        det_file = os.path.join(data_path, classes.get(j) + '_det.pkl')\n",
    "        seg_file = os.path.join(data_path, classes.get(j) + '_seg.pkl')\n",
    "        with open(det_file, 'rb') as f:\n",
    "            boxes_pkl = pickle.load(f)\n",
    "        boxes_pkl_all[j] = boxes_pkl\n",
    "        with open(seg_file, 'rb') as f:\n",
    "            masks_pkl = pickle.load(f)\n",
    "        masks_pkl_all[j] = masks_pkl\n",
    "    \n",
    "    for i in range(0,len(image_names)):\n",
    "        print(i)\n",
    "        inst = []\n",
    "        label = []\n",
    "        score = []\n",
    "        for j in range(0,len(classes)):    \n",
    "            inst_count = len(boxes_pkl_all[j][i])\n",
    "            if inst_count == 0:\n",
    "                continue            \n",
    "            for x in range(0,inst_count):\n",
    "                label.append(classes.get(j))\n",
    "                score.append(boxes_pkl_all[j][i][x][-1])\n",
    "            \n",
    "            #print 'instcount: ' +str(inst_count)\n",
    "            #print 'label count: '+str(len(label))\n",
    "            #print 'score count:' + str(len(score))\n",
    "                    \n",
    "            img = cv2.imread(data_path+image_names[i]+'_mask.png')\n",
    "            mask = GetMask(masks_pkl_all[j][i],boxes_pkl_all[j][i],img.shape)            \n",
    "            inst.extend(mask)\n",
    "            \n",
    "        fcis_part_all.append(inst)\n",
    "        fcis_part_score_all.append(score)\n",
    "        fcis_part_label_all.append(label)\n",
    "        \n",
    " \n",
    "    return fcis_part_all,fcis_part_score_all,fcis_part_label_all"
   ]
  },
  {
   "cell_type": "code",
   "execution_count": 37,
   "metadata": {},
   "outputs": [
    {
     "name": "stdout",
     "output_type": "stream",
     "text": [
      "0\n"
     ]
    },
    {
     "ename": "NameError",
     "evalue": "global name 'GetMask' is not defined",
     "output_type": "error",
     "traceback": [
      "\u001b[0;31m---------------------------------------------------------------------------\u001b[0m",
      "\u001b[0;31mNameError\u001b[0m                                 Traceback (most recent call last)",
      "\u001b[0;32m<ipython-input-37-67ebc0495d1d>\u001b[0m in \u001b[0;36m<module>\u001b[0;34m()\u001b[0m\n\u001b[1;32m     10\u001b[0m \u001b[0mimage_names\u001b[0m \u001b[0;34m=\u001b[0m \u001b[0;34m[\u001b[0m\u001b[0mx\u001b[0m\u001b[0;34m.\u001b[0m\u001b[0mstrip\u001b[0m\u001b[0;34m(\u001b[0m\u001b[0;34m)\u001b[0m \u001b[0;32mfor\u001b[0m \u001b[0mx\u001b[0m \u001b[0;32min\u001b[0m \u001b[0mlines\u001b[0m\u001b[0;34m]\u001b[0m\u001b[0;34m\u001b[0m\u001b[0m\n\u001b[1;32m     11\u001b[0m \u001b[0;34m\u001b[0m\u001b[0m\n\u001b[0;32m---> 12\u001b[0;31m \u001b[0mgt_part_all\u001b[0m\u001b[0;34m,\u001b[0m\u001b[0mgt_score\u001b[0m\u001b[0;34m,\u001b[0m\u001b[0mgt_part_label_all\u001b[0m \u001b[0;34m=\u001b[0m \u001b[0mbuildPart\u001b[0m\u001b[0;34m(\u001b[0m\u001b[0mimage_names\u001b[0m\u001b[0;34m,\u001b[0m\u001b[0mgt_path\u001b[0m\u001b[0;34m)\u001b[0m\u001b[0;34m\u001b[0m\u001b[0m\n\u001b[0m\u001b[1;32m     13\u001b[0m \u001b[0;34m\u001b[0m\u001b[0m\n\u001b[1;32m     14\u001b[0m \u001b[0;34m\u001b[0m\u001b[0m\n",
      "\u001b[0;32m<ipython-input-30-8e7ff3967798>\u001b[0m in \u001b[0;36mbuildPart\u001b[0;34m(image_names, data_path)\u001b[0m\n\u001b[1;32m     36\u001b[0m \u001b[0;34m\u001b[0m\u001b[0m\n\u001b[1;32m     37\u001b[0m             \u001b[0mimg\u001b[0m \u001b[0;34m=\u001b[0m \u001b[0mcv2\u001b[0m\u001b[0;34m.\u001b[0m\u001b[0mimread\u001b[0m\u001b[0;34m(\u001b[0m\u001b[0mdata_path\u001b[0m\u001b[0;34m+\u001b[0m\u001b[0mimage_names\u001b[0m\u001b[0;34m[\u001b[0m\u001b[0mi\u001b[0m\u001b[0;34m]\u001b[0m\u001b[0;34m+\u001b[0m\u001b[0;34m'_mask.png'\u001b[0m\u001b[0;34m)\u001b[0m\u001b[0;34m\u001b[0m\u001b[0m\n\u001b[0;32m---> 38\u001b[0;31m             \u001b[0mmask\u001b[0m \u001b[0;34m=\u001b[0m \u001b[0mGetMask\u001b[0m\u001b[0;34m(\u001b[0m\u001b[0mmasks_pkl_all\u001b[0m\u001b[0;34m[\u001b[0m\u001b[0mj\u001b[0m\u001b[0;34m]\u001b[0m\u001b[0;34m[\u001b[0m\u001b[0mi\u001b[0m\u001b[0;34m]\u001b[0m\u001b[0;34m,\u001b[0m\u001b[0mboxes_pkl_all\u001b[0m\u001b[0;34m[\u001b[0m\u001b[0mj\u001b[0m\u001b[0;34m]\u001b[0m\u001b[0;34m[\u001b[0m\u001b[0mi\u001b[0m\u001b[0;34m]\u001b[0m\u001b[0;34m,\u001b[0m\u001b[0mimg\u001b[0m\u001b[0;34m.\u001b[0m\u001b[0mshape\u001b[0m\u001b[0;34m)\u001b[0m\u001b[0;34m\u001b[0m\u001b[0m\n\u001b[0m\u001b[1;32m     39\u001b[0m             \u001b[0minst\u001b[0m\u001b[0;34m.\u001b[0m\u001b[0mextend\u001b[0m\u001b[0;34m(\u001b[0m\u001b[0mmask\u001b[0m\u001b[0;34m)\u001b[0m\u001b[0;34m\u001b[0m\u001b[0m\n\u001b[1;32m     40\u001b[0m \u001b[0;34m\u001b[0m\u001b[0m\n",
      "\u001b[0;31mNameError\u001b[0m: global name 'GetMask' is not defined"
     ]
    }
   ],
   "source": [
    "##########build gt\n",
    "gt_img_all = []\n",
    "gt_part_all = []\n",
    "gt_part_label_all = []\n",
    "idx = 0\n",
    "path =  '/home/icl/chenxin/onekeyGeonet/Evaluations/MeanAP/Exper_FCIS_DCN/'\n",
    "imageset_file = os.path.join(path, 'val.txt')\n",
    "with open(imageset_file, 'r') as f:\n",
    "    lines = f.readlines()\n",
    "image_names = [x.strip() for x in lines]\n",
    "\n",
    "gt_part_all,gt_score,gt_part_label_all = buildPart(image_names,gt_path)\n",
    "\n",
    "\n",
    "# boxc = 0\n",
    "# cyc = 0\n",
    "\n",
    "# for imgname in our_list:\n",
    "#     realname = imgname[:imgname.index('_mask')]  \n",
    "#     print(str(idx) + \" \" + imgname)     \n",
    "#     gt_img = cv2.imread(gt_path+realname+'.png', 1)\n",
    "    \n",
    "#     h = gt_img.shape[0]\n",
    "#     w = gt_img.shape[1]        \n",
    "        \n",
    "#     #gt_img_l = SetMask(gt_img,h,w)\n",
    "#     gt_part,gt_part_label = ParseMask(gt_img,h,w) \n",
    "    \n",
    "#     #gt_img_all.append(gt_img_l)\n",
    "#     gt_part_all.append(gt_part)\n",
    "#     gt_part_label_all.append(gt_part_label)\n",
    "    \n",
    "#     idx = idx+1"
   ]
  },
  {
   "cell_type": "code",
   "execution_count": null,
   "metadata": {
    "collapsed": true
   },
   "outputs": [],
   "source": []
  },
  {
   "cell_type": "code",
   "execution_count": null,
   "metadata": {
    "collapsed": true
   },
   "outputs": [],
   "source": [
    "#############################################################################################################"
   ]
  },
  {
   "cell_type": "code",
   "execution_count": 82,
   "metadata": {
    "scrolled": false
   },
   "outputs": [
    {
     "name": "stdout",
     "output_type": "stream",
     "text": [
      "overlap==-1000\n",
      "overlap==-1000\n",
      "overlap==-1000\n",
      "overlap==-1000\n"
     ]
    }
   ],
   "source": [
    "###############NEW-PP-IOU\n",
    "idx= 0\n",
    "test_part_all = []\n",
    "test_part_label_all = []\n",
    "\n",
    "for imgname in bnf_list:\n",
    "    realname = imgname[:imgname.index('_bnf')]   \n",
    "    test_img = cv2.imread(bnf_path+realname+'_bnf.png', 1)\n",
    "    gt_img = cv2.imread(gt_path+realname+'.png')\n",
    "    #print(str(idx) + \" \" + imgname) \n",
    "\n",
    "    h = test_img.shape[0]\n",
    "    w = test_img.shape[1]\n",
    "    \n",
    "    if test_img is None:\n",
    "        print(\"no test output\")\n",
    "        test_img =  np.zeros(gt_img.shape,np.uint8)\n",
    "             \n",
    "    test_part,test_part_label = ParseMask(test_img,h,w)  \n",
    "    test_part_all.append(test_part)    \n",
    "    test_part_label_all.append(test_part_label)\n",
    "    \n",
    "    idx = idx+1\n",
    "\n",
    "test_in_all = []\n",
    "test_un_all = []\n",
    "for x in range(0,len(test_part_all)):\n",
    "    #print(x)\n",
    "    test_in,test_un = GetOverLap_inun(test_part_all[x],gt_part_all[x],test_part_label_all[x],gt_part_label_all[x])    \n",
    "    #print(test_ov)\n",
    "    test_in_all.append(test_in)\n",
    "    test_un_all.append(test_un)"
   ]
  },
  {
   "cell_type": "code",
   "execution_count": 83,
   "metadata": {},
   "outputs": [
    {
     "name": "stdout",
     "output_type": "stream",
     "text": [
      "[  5791021.   2858626.  10270405.   3595636.]\n",
      "[  6123496.   3056577.  11399328.   4366284.]\n",
      "-----\n",
      "[ 0.94570504  0.93523769  0.90096583  0.82350026]\n",
      "0.901352201932\n"
     ]
    }
   ],
   "source": [
    "###########################PP-IOU\n",
    "test_in_all = np.array(test_in_all)\n",
    "test_un_all = np.array(test_un_all)\n",
    "\n",
    "print(test_in_all.sum(0))\n",
    "print(test_un_all.sum(0))\n",
    "print('-----')\n",
    "print(test_in_all.sum(0)/test_un_all.sum(0))\n",
    "print((test_in_all.sum(0)/test_un_all.sum(0)).mean())"
   ]
  },
  {
   "cell_type": "code",
   "execution_count": 84,
   "metadata": {},
   "outputs": [
    {
     "name": "stdout",
     "output_type": "stream",
     "text": [
      "[ 153.73657612  148.2506975   153.93289938  119.70670497]\n",
      "[ 165.  162.  174.  167.]\n",
      "----\n",
      "[ 0.93173682  0.91512776  0.88467184  0.71680662]\n",
      "0.862085759852\n"
     ]
    }
   ],
   "source": [
    "########################PI-IOU\n",
    "test_ov_all_np = np.zeros(len(classes))\n",
    "test_ov_all_counter = np.zeros(len(classes))\n",
    "for k in range(0,len(test_un_all)):   \n",
    "    for j in range(0,len(classes)):\n",
    "        if test_un_all[k][j]!=0:\n",
    "            test_ov_all_np[j] = test_ov_all_np[j] + test_in_all[k][j]/test_un_all[k][j]\n",
    "            test_ov_all_counter[j] = test_ov_all_counter[j] + 1\n",
    "print(test_ov_all_np)\n",
    "print(test_ov_all_counter)\n",
    "print('----')\n",
    "print(test_ov_all_np/test_ov_all_counter)\n",
    "print((test_ov_all_np/test_ov_all_counter).mean())"
   ]
  },
  {
   "cell_type": "code",
   "execution_count": null,
   "metadata": {
    "collapsed": true
   },
   "outputs": [],
   "source": [
    "#############################################################################################################"
   ]
  },
  {
   "cell_type": "code",
   "execution_count": null,
   "metadata": {
    "collapsed": true
   },
   "outputs": [],
   "source": []
  },
  {
   "cell_type": "code",
   "execution_count": null,
   "metadata": {
    "collapsed": true
   },
   "outputs": [],
   "source": []
  },
  {
   "cell_type": "code",
   "execution_count": null,
   "metadata": {
    "collapsed": true
   },
   "outputs": [],
   "source": []
  },
  {
   "cell_type": "code",
   "execution_count": null,
   "metadata": {
    "collapsed": true
   },
   "outputs": [],
   "source": []
  },
  {
   "cell_type": "code",
   "execution_count": null,
   "metadata": {
    "collapsed": true
   },
   "outputs": [],
   "source": []
  }
 ],
 "metadata": {
  "kernelspec": {
   "display_name": "Python 2",
   "language": "python",
   "name": "python2"
  },
  "language_info": {
   "codemirror_mode": {
    "name": "ipython",
    "version": 2
   },
   "file_extension": ".py",
   "mimetype": "text/x-python",
   "name": "python",
   "nbconvert_exporter": "python",
   "pygments_lexer": "ipython2",
   "version": "2.7.12"
  }
 },
 "nbformat": 4,
 "nbformat_minor": 2
}
