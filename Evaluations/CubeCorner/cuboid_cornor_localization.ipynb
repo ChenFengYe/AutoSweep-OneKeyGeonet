{
 "cells": [
  {
   "cell_type": "code",
   "execution_count": 130,
   "metadata": {
    "collapsed": true
   },
   "outputs": [],
   "source": [
    "import numpy as np\n",
    "import os\n",
    "import cv2\n",
    "import matplotlib.pyplot as plt\n",
    "import math\n",
    "% matplotlib inline"
   ]
  },
  {
   "cell_type": "code",
   "execution_count": 131,
   "metadata": {},
   "outputs": [],
   "source": [
    "path = 'cubecorner/'\n",
    "imgpath = 'img/'\n",
    "gt = os.listdir(path +'gt')"
   ]
  },
  {
   "cell_type": "code",
   "execution_count": 132,
   "metadata": {
    "collapsed": true
   },
   "outputs": [],
   "source": [
    "def getcorners(filename):\n",
    "    f = open(filename, 'r')\n",
    "    corners = []\n",
    "    idx = 0\n",
    "    for line in f.readlines():\n",
    "        x = line[:line.index(' ')]\n",
    "        x = float(x)\n",
    "        y = line[line.index(' '):]\n",
    "        y = float(y)\n",
    "        corners.append([x,y])\n",
    "        idx = idx+1\n",
    "        \n",
    "    \n",
    "    if '_corner' in filename:\n",
    "        imgname = filename[:filename.index('_corner')]\n",
    "    else:\n",
    "        imgname = filename[:filename.index('.txt')]\n",
    "    imgname = imgname[imgname.rindex('/')+1:]\n",
    "    #print imgname\n",
    "    img = cv2.imread(path+'img/'+imgname+'.jpg')\n",
    "    sp = img.shape\n",
    "    h = sp[0]#height(rows) of image\n",
    "    w = sp[1]#width(colums) of image\n",
    "    \n",
    "    #h,w = bboxhw(corners)\n",
    "    \n",
    "    return corners,h,w"
   ]
  },
  {
   "cell_type": "code",
   "execution_count": 133,
   "metadata": {
    "collapsed": true
   },
   "outputs": [],
   "source": [
    "def bboxarea(corner):\n",
    "    xlist = []\n",
    "    ylist = []\n",
    "    for i in corner:\n",
    "        xlist.append(i[0])\n",
    "        ylist.append(i[1])\n",
    "    bbx_min_x = min(xlist)\n",
    "    bbx_max_x = max(xlist)\n",
    "    bbx_min_y = min(ylist)\n",
    "    bbx_max_y = max(ylist)\n",
    "    area = (bbx_max_x-bbx_min_x)*(bbx_max_y-bbx_min_y)\n",
    "    return area"
   ]
  },
  {
   "cell_type": "code",
   "execution_count": 134,
   "metadata": {
    "collapsed": true
   },
   "outputs": [],
   "source": [
    "def bboxhw(corner):\n",
    "    xlist = []\n",
    "    ylist = []\n",
    "    for i in corner:\n",
    "        xlist.append(i[0])\n",
    "        ylist.append(i[1])\n",
    "    bbx_min_x = min(xlist)\n",
    "    bbx_max_x = max(xlist)\n",
    "    bbx_min_y = min(ylist)\n",
    "    bbx_max_y = max(ylist)\n",
    "    h = bbx_max_x-bbx_min_x\n",
    "    w = bbx_max_y-bbx_min_y\n",
    "    return h,w"
   ]
  },
  {
   "cell_type": "code",
   "execution_count": 180,
   "metadata": {},
   "outputs": [],
   "source": [
    "def cornertpfp(ourcorner,gtcorner,h,w):\n",
    "    gt_detect_list = np.zeros(len(ourcorner))    \n",
    "    tp = np.zeros(len(gtcorner))\n",
    "    fp = np.zeros(len(gtcorner))\n",
    "    distances = np.zeros(len(gtcorner))\n",
    "    for i in range(0,len(gtcorner)):\n",
    "        our_x = gtcorner[i][0];\n",
    "        our_y = gtcorner[i][1];\n",
    "        mindis = 100000;\n",
    "        min_dis_id = -1;\n",
    "            \n",
    "        ###same as xiao\n",
    "        #dis_thresh = 0.15 * math.sqrt(bboxarea(gtcorner))\n",
    "        \n",
    "        ###magic leap APK\n",
    "        #h,w = bboxhw(gtcorner)\n",
    "        dis_thresh = 0.1 * max(h, w)\n",
    "        \n",
    "        \n",
    "        for j in range(0,len(ourcorner)):\n",
    "            gt_x = ourcorner[j][0];\n",
    "            gt_y = ourcorner[j][1];\n",
    "            distance = (our_x-gt_x)**2+(our_y-gt_y)**2\n",
    "            distance = math.sqrt(distance);\n",
    "            #print distance\n",
    "            if(distance<mindis):\n",
    "                mindis = distance\n",
    "                min_dis_id = j\n",
    "        distances[i] = distance/float(dis_thresh)\n",
    "        if mindis<dis_thresh:\n",
    "            if gt_detect_list[min_dis_id]:\n",
    "                fp[i] = 1\n",
    "            else:\n",
    "                tp[i] = 1\n",
    "                gt_detect_list[min_dis_id] = 1\n",
    "        else:\n",
    "            fp[i] = 1\n",
    "    return tp,fp,distances"
   ]
  },
  {
   "cell_type": "code",
   "execution_count": 181,
   "metadata": {
    "collapsed": true
   },
   "outputs": [],
   "source": [
    "def pck(ourcorner,gtcorner,alpha):\n",
    "    true = 0\n",
    "    gt_detect_list = np.zeros(len(ourcorner))    \n",
    "    distances = np.zeros(len(gtcorner))\n",
    "    for i in range(0,len(gtcorner)):\n",
    "        our_x = gtcorner[i][0];\n",
    "        our_y = gtcorner[i][1];\n",
    "        mindis = 100000;\n",
    "        min_dis_id = -1;\n",
    "        \n",
    "        ##bounding box h,w\n",
    "        h,w = bboxhw(gtcorner)\n",
    "        dis_thresh = alpha * max(h, w)\n",
    "\n",
    "        for j in range(0,len(ourcorner)):\n",
    "            gt_x = ourcorner[j][0];\n",
    "            gt_y = ourcorner[j][1];\n",
    "            distance = (our_x-gt_x)**2+(our_y-gt_y)**2\n",
    "            distance = math.sqrt(distance);\n",
    "            #print distance\n",
    "            if(distance<mindis):\n",
    "                mindis = distance\n",
    "                min_dis_id = j\n",
    "        if mindis<dis_thresh:\n",
    "            if not gt_detect_list[min_dis_id]:\n",
    "                true = true+1\n",
    "                gt_detect_list[min_dis_id] = 1\n",
    "    return true"
   ]
  },
  {
   "cell_type": "code",
   "execution_count": 182,
   "metadata": {
    "collapsed": true
   },
   "outputs": [],
   "source": [
    "def voc_ap(rec, prec, use_07_metric=False):\n",
    "    \"\"\"\n",
    "    average precision calculations\n",
    "    [precision integrated to recall]\n",
    "    :param rec: recall\n",
    "    :param prec: precision\n",
    "    :param use_07_metric: 2007 metric is 11-recall-point based AP\n",
    "    :return: average precision\n",
    "    \"\"\"\n",
    "    if use_07_metric:\n",
    "        ap = 0.\n",
    "        for t in np.arange(0., 1.1, 0.1):\n",
    "            if np.sum(rec >= t) == 0:\n",
    "                p = 0\n",
    "            else:\n",
    "                p = np.max(prec[rec >= t])\n",
    "            ap += p / 11.\n",
    "    else:\n",
    "        # append sentinel values at both ends\n",
    "        mrec = np.concatenate(([0.], rec, [1.]))\n",
    "        mpre = np.concatenate(([0.], prec, [0.]))\n",
    "\n",
    "        # compute precision integration ladder\n",
    "        for i in range(mpre.size - 1, 0, -1):\n",
    "            mpre[i - 1] = np.maximum(mpre[i - 1], mpre[i])\n",
    "\n",
    "        # look for recall value changes\n",
    "        i = np.where(mrec[1:] != mrec[:-1])[0]\n",
    "\n",
    "        # sum (\\delta recall) * prec\n",
    "        ap = np.sum((mrec[i + 1] - mrec[i]) * mpre[i + 1])\n",
    "    return ap"
   ]
  },
  {
   "cell_type": "code",
   "execution_count": 190,
   "metadata": {},
   "outputs": [],
   "source": [
    "##########################xiao & majic leap apk\n",
    "tps = []\n",
    "fps = []\n",
    "counter = 0\n",
    "distances = []\n",
    "for i in range(0,len(gt)):\n",
    "    gtfile = path+'gt/' + gt[i]\n",
    "    ourfile = gt[i][:gt[i].index('.txt')]+'_corner.txt'\n",
    "    ourfile = path+'our/'+ourfile\n",
    "    gtcorner,h1,w1 = getcorners(gtfile) \n",
    "    counter = counter + len(gtcorner)\n",
    "    #print(gt[i])\n",
    "    if os.path.exists(ourfile):\n",
    "        ourcorner,h2,w2 = getcorners(ourfile)  \n",
    "        assert h1==h2 and w1==w2\n",
    "        h = h1\n",
    "        w = w1\n",
    "        tp,fp,dis = cornertpfp(ourcorner,gtcorner,h,w)\n",
    "        distances.extend(dis)\n",
    "        tps.extend(tp)\n",
    "        fps.extend(fp)\n",
    "    else:       \n",
    "        tp = np.zeros(len(gtcorner))\n",
    "        fp = np.ones(len(gtcorner))\n",
    "        tps.extend(tp)\n",
    "        fps.extend(fp)\n",
    "        for j in range(0,len(gtcorner)):\n",
    "            distances.extend([1000])"
   ]
  },
  {
   "cell_type": "code",
   "execution_count": 191,
   "metadata": {},
   "outputs": [
    {
     "name": "stdout",
     "output_type": "stream",
     "text": [
      "1432\n",
      "1432\n",
      "1432\n",
      "1432\n"
     ]
    }
   ],
   "source": [
    "print(len(tps))\n",
    "print(len(fps))\n",
    "print(len(distances))\n",
    "print(counter)"
   ]
  },
  {
   "cell_type": "code",
   "execution_count": 192,
   "metadata": {},
   "outputs": [],
   "source": [
    "ntps = []\n",
    "nfps = []\n",
    "idx = 0\n",
    "for i in range(0,len(tps)):\n",
    "    idx = idx+1\n",
    "    if(idx<=tps.count(1)):\n",
    "        ntps.append(1.0)\n",
    "        nfps.append(0.0)\n",
    "    else:\n",
    "        ntps.append(0.0)\n",
    "        nfps.append(1.0)\n",
    "        \n",
    "tps = ntps[:]\n",
    "fps = nfps[:]"
   ]
  },
  {
   "cell_type": "code",
   "execution_count": 193,
   "metadata": {},
   "outputs": [],
   "source": [
    "#orderidx = np.argsort(distances) # 按照overlap重新对tp 和 fp 排序，模拟score\n",
    "\n",
    "#tps_backup = tps[:]\n",
    "#fpt_backup = fps[:]\n",
    "\n",
    "#or_tps = []\n",
    "#or_fps = []\n",
    "#for x in orderidx:\n",
    "#    or_tps.append(tps[x])\n",
    "#    or_fps.append(fps[x])\n",
    "\n",
    "#tps = or_tps[:]\n",
    "#fps = or_fps[:]"
   ]
  },
  {
   "cell_type": "code",
   "execution_count": 194,
   "metadata": {},
   "outputs": [
    {
     "name": "stdout",
     "output_type": "stream",
     "text": [
      "accuracy: 0.497905027933\n",
      "APK: 0.497905027933\n"
     ]
    }
   ],
   "source": [
    "num_pos = counter\n",
    "fpss = np.cumsum(fps)\n",
    "tpss = np.cumsum(tps)\n",
    "rec = tpss / float(num_pos)\n",
    "acc = tpss / range(1,num_pos+1)\n",
    "# avoid divide by zero in case the first matches a difficult gt\n",
    "prec = tpss / np.maximum(fpss+tpss, np.finfo(np.float64).eps)\n",
    "print(\"accuracy: \" + str(acc[-1]))\n",
    "\n",
    "apk = voc_ap(rec, prec, False)\n",
    "print(\"APK: \"+str(apk))"
   ]
  },
  {
   "cell_type": "code",
   "execution_count": 179,
   "metadata": {},
   "outputs": [
    {
     "data": {
      "image/png": "[encoded data removed]",
      "text/plain": [
       "<matplotlib.figure.Figure at 0x7fd34e7b4eb8>"
      ]
     },
     "metadata": {},
     "output_type": "display_data"
    }
   ],
   "source": [
    "import matplotlib.pyplot as plt\n",
    "% matplotlib inline\n",
    "plt.figure(1) \n",
    "plt.plot(rec,acc)\n",
    "plt.xlabel('recall')# make axis labels\n",
    "plt.ylabel('reprojection accuracy (criteria=0.150)')\n",
    "plt.xlim(0,1.0)# set axis limits\n",
    "plt.ylim(0,1.0)\n",
    "plt.show()"
   ]
  },
  {
   "cell_type": "code",
   "execution_count": 68,
   "metadata": {},
   "outputs": [
    {
     "data": {
      "text/plain": [
       "array([ 1.        ,  0.5       ,  0.33333333, ...,  0.47622378,\n",
       "        0.47589099,  0.47555866])"
      ]
     },
     "execution_count": 68,
     "metadata": {},
     "output_type": "execute_result"
    }
   ],
   "source": [
    "acc"
   ]
  },
  {
   "cell_type": "code",
   "execution_count": 88,
   "metadata": {},
   "outputs": [],
   "source": [
    "################magic leap pck\n",
    "trues_all = []\n",
    "alphas = np.arange(0,0.2,0.1)\n",
    "acc = []\n",
    "\n",
    "for alpha in alphas:\n",
    "    counter = 0\n",
    "    trues = 0\n",
    "    for i in range(0,len(gt)):\n",
    "        gtfile = path+'gt/' + gt[i]\n",
    "        ourfile = gt[i][:gt[i].index('.txt')]+'_corner.txt'\n",
    "        ourfile = path+'our/'+ourfile\n",
    "        gtcorner,h1,w1 = getcorners(gtfile) \n",
    "        counter = counter + len(gtcorner)\n",
    "\n",
    "        if os.path.exists(ourfile):\n",
    "            ourcorner,h2,w2 = getcorners(ourfile)  \n",
    "            assert h1==h2 and w1==w2\n",
    "            h = h1\n",
    "            w = w1\n",
    "            trues = trues + pck(ourcorner,gtcorner,alpha)\n",
    "            #print(trues)\n",
    "        #else:       \n",
    "            #print(gt[i])\n",
    "    acc.append(trues / float(counter))"
   ]
  },
  {
   "cell_type": "code",
   "execution_count": 89,
   "metadata": {},
   "outputs": [
    {
     "data": {
      "text/plain": [
       "[0.0, 0.4511173184357542]"
      ]
     },
     "execution_count": 89,
     "metadata": {},
     "output_type": "execute_result"
    }
   ],
   "source": [
    "acc"
   ]
  },
  {
   "cell_type": "code",
   "execution_count": 90,
   "metadata": {},
   "outputs": [
    {
     "data": {
      "image/png": "[encoded data removed]",
      "text/plain": [
       "<matplotlib.figure.Figure at 0x7fd34e73d4e0>"
      ]
     },
     "metadata": {},
     "output_type": "display_data"
    }
   ],
   "source": [
    "import matplotlib.pyplot as plt\n",
    "% matplotlib inline\n",
    "plt.figure(1) \n",
    "plt.plot(alphas,acc)\n",
    "plt.xlabel('alpha')# make axis labels\n",
    "plt.ylabel('PCK')\n",
    "plt.xlim(0,0.5)# set axis limits\n",
    "plt.ylim(0,1.0)\n",
    "plt.show()"
   ]
  },
  {
   "cell_type": "code",
   "execution_count": null,
   "metadata": {
    "collapsed": true
   },
   "outputs": [],
   "source": []
  }
 ],
 "metadata": {
  "anaconda-cloud": {},
  "kernelspec": {
   "display_name": "Python 3",
   "language": "python",
   "name": "python3"
  },
  "language_info": {
   "codemirror_mode": {
    "name": "ipython",
    "version": 3
   },
   "file_extension": ".py",
   "mimetype": "text/x-python",
   "name": "python",
   "nbconvert_exporter": "python",
   "pygments_lexer": "ipython3",
   "version": "3.5.2"
  }
 },
 "nbformat": 4,
 "nbformat_minor": 1
}
